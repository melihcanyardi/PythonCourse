{
 "cells": [
  {
   "cell_type": "code",
   "execution_count": 1,
   "id": "53c8d8a7",
   "metadata": {},
   "outputs": [],
   "source": [
    "import random"
   ]
  },
  {
   "cell_type": "code",
   "execution_count": 2,
   "id": "996101ef",
   "metadata": {},
   "outputs": [],
   "source": [
    "class Portfolio():\n",
    "    \n",
    "    def __init__(self, cash = 0, stocks = {}, mutual_funds = {}, actions = []):\n",
    "        self.cash = cash\n",
    "        self.stocks = stocks\n",
    "        self.mutual_funds = mutual_funds\n",
    "        self.actions = actions\n",
    "    \n",
    "    def addCash(self, amount):\n",
    "        self.cash += amount\n",
    "        self.actions.append(f\"Add ${amount} to the portfolio\")\n",
    "        \n",
    "    def withdrawCash(self, amount):\n",
    "        self.cash -= amount\n",
    "        self.actions.append(f\"Remove ${amount} from the portfolio\")\n",
    "        \n",
    "    def buyStock(self, share, stock):\n",
    "        self.cash -= stock.price / share\n",
    "        if stock.symbol in self.stocks:\n",
    "            self.stocks[stock.symbol] += share\n",
    "        else:\n",
    "            self.stocks[stock.symbol] = share\n",
    "        self.actions.append(f'Buy {share} shares of stock \"{stock.symbol}\"')\n",
    "        \n",
    "    def sellStock(self, stock, share):\n",
    "        self.cash += random.uniform(0.5, 1.5) / share\n",
    "        self.stocks[stock] -= share\n",
    "        self.actions.append(f'Sell {share} shares of \"{stock}\"')\n",
    "    \n",
    "    def buyMutualFund(self, share, mf):\n",
    "        self.cash -= 1 / share\n",
    "        if mf.symbol in self.mutual_funds:\n",
    "            self.mutual_funds[mf.symbol] += share\n",
    "        else:\n",
    "            self.mutual_funds[mf.symbol] = share\n",
    "        self.mutual_funds[mf.symbol] = share\n",
    "        self.actions.append(f'Buy {share} shares of \"{mf.symbol}\"')\n",
    "        \n",
    "    def sellMutualFund(self, mf, share):\n",
    "        self.cash += random.uniform(0.9, 1.2) / share\n",
    "        self.mutual_funds[mf] -= share\n",
    "        self.actions.append(f'Sell {share} shares of \"{mf}\"')\n",
    "    \n",
    "    def history(self):\n",
    "        for i, action in enumerate(self.actions):\n",
    "            print(f\"{i+1}- {action}\")\n",
    "        \n",
    "    def __str__(self):\n",
    "        return_str = f\"cash:\\n${self.cash:.2f}\\n\\nstock:\"\n",
    "        for stock, share in self.stocks.items():\n",
    "            return_str += f\"\\n{share} {stock}\"\n",
    "        return_str += f\"\\n\\nmutual funds:\"\n",
    "        for mf, share in self.mutual_funds.items():\n",
    "            return_str += f\"\\n{share:.2f} {mf}\"\n",
    "        return return_str\n",
    "        #return f\"cash: ${self.cash}\\nstock: {self.stocks}\\nmutual funds: {self.mutual_funds}\"\n",
    "    \n",
    "\n",
    "    \n",
    "class Stock():\n",
    "    \n",
    "    def __init__(self, price, symbol):\n",
    "        self.price = price\n",
    "        self.symbol = symbol\n",
    "\n",
    "\n",
    "        \n",
    "class MutualFund():\n",
    "    \n",
    "    def __init__(self, symbol):\n",
    "        self.symbol = symbol"
   ]
  },
  {
   "cell_type": "code",
   "execution_count": 3,
   "id": "08069993",
   "metadata": {},
   "outputs": [],
   "source": [
    "portfolio = Portfolio() # Creates a new portfolio\n",
    "portfolio.addCash(300.50) # Adds cash to the portfolio\n",
    "\n",
    "s = Stock(20, \"HFH\") # Creates Stock with price 20 and symbol \"HFH\"\n",
    "\n",
    "portfolio.buyStock(5, s) # Buys 5 shares of stock s\n",
    "\n",
    "mf1 = MutualFund(\"BRT\") # Create MF with symbol \"BRT\"\n",
    "mf2 = MutualFund(\"GHT\") # Create MF with symbol \"GHT\"\n",
    "\n",
    "portfolio.buyMutualFund(10.3, mf1) # Buys 10.3 shares of \"BRT\"\n",
    "portfolio.buyMutualFund(2, mf2) # Buys 2 shares of \"GHT\"\n",
    "\n",
    "portfolio.sellMutualFund(\"BRT\", 3) # Sells 3 shares of BRT\n",
    "\n",
    "portfolio.sellStock(\"HFH\", 1) # Sells 1 share of HFH\n",
    "\n",
    "portfolio.withdrawCash(50) # Removes $50"
   ]
  },
  {
   "cell_type": "code",
   "execution_count": 4,
   "id": "13492ef4",
   "metadata": {},
   "outputs": [
    {
     "name": "stdout",
     "output_type": "stream",
     "text": [
      "cash:\n",
      "$247.29\n",
      "\n",
      "stock:\n",
      "4 HFH\n",
      "\n",
      "mutual funds:\n",
      "7.30 BRT\n",
      "2.00 GHT\n"
     ]
    }
   ],
   "source": [
    "print(portfolio) # Print portfolio"
   ]
  },
  {
   "cell_type": "code",
   "execution_count": 5,
   "id": "2b407b39",
   "metadata": {},
   "outputs": [
    {
     "name": "stdout",
     "output_type": "stream",
     "text": [
      "1- Add $300.5 to the portfolio\n",
      "2- Buy 5 shares of stock \"HFH\"\n",
      "3- Buy 10.3 shares of \"BRT\"\n",
      "4- Buy 2 shares of \"GHT\"\n",
      "5- Sell 3 shares of \"BRT\"\n",
      "6- Sell 1 shares of \"HFH\"\n",
      "7- Remove $50 from the portfolio\n"
     ]
    }
   ],
   "source": [
    "portfolio.history() # Prints a list of all transactions ordered by time"
   ]
  }
 ],
 "metadata": {
  "kernelspec": {
   "display_name": "Python 3",
   "language": "python",
   "name": "python3"
  },
  "language_info": {
   "codemirror_mode": {
    "name": "ipython",
    "version": 3
   },
   "file_extension": ".py",
   "mimetype": "text/x-python",
   "name": "python",
   "nbconvert_exporter": "python",
   "pygments_lexer": "ipython3",
   "version": "3.8.8"
  }
 },
 "nbformat": 4,
 "nbformat_minor": 5
}
