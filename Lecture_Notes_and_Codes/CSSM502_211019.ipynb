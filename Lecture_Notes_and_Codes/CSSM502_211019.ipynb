{
 "cells": [
  {
   "cell_type": "markdown",
   "id": "fb0cb0e7",
   "metadata": {},
   "source": [
    "# Calendar"
   ]
  },
  {
   "cell_type": "code",
   "execution_count": 1,
   "id": "a07414a9",
   "metadata": {},
   "outputs": [],
   "source": [
    "class Calendar(object):\n",
    "    def __init__(self, year, month, day):\n",
    "        self.year = year\n",
    "        self.month = month\n",
    "        self.day = day\n",
    "        \n",
    "    def __str__(self):\n",
    "        return f\"{self.day}/{self.month}/{self.year}\"\n",
    "    \n",
    "    def __repr__(self):\n",
    "        return self.__str__()\n",
    "    \n",
    "    def __add__(self,days):\n",
    "        self.day += days\n",
    "        if self.day > 31:\n",
    "            self.month += self.day // 31\n",
    "            self.day %= 31\n",
    "        \n",
    "    def __sub__(self,days):\n",
    "        self.day -= days\n",
    "        if self.day < 0:\n",
    "            self.month += self.day // 31\n",
    "            self.day %= 31\n",
    "        \n",
    "    def __eq__(self, other):\n",
    "        return f\"{self.day}/{self.month}/{self.year}\" == other\n",
    "    \n",
    "    def __ne__(self, other):\n",
    "        return f\"{self.day}/{self.month}/{self.year}\" != other"
   ]
  },
  {
   "cell_type": "code",
   "execution_count": 2,
   "id": "5a44adda",
   "metadata": {},
   "outputs": [],
   "source": [
    "calendar = Calendar(2021, 3, 19)"
   ]
  },
  {
   "cell_type": "code",
   "execution_count": 3,
   "id": "d2ea0d55",
   "metadata": {},
   "outputs": [
    {
     "name": "stdout",
     "output_type": "stream",
     "text": [
      "19/3/2021\n"
     ]
    }
   ],
   "source": [
    "print(calendar)"
   ]
  },
  {
   "cell_type": "code",
   "execution_count": 4,
   "id": "e69123e0",
   "metadata": {},
   "outputs": [],
   "source": [
    "calendar.__add__(20)"
   ]
  },
  {
   "cell_type": "code",
   "execution_count": 5,
   "id": "bb51fa4f",
   "metadata": {},
   "outputs": [
    {
     "name": "stdout",
     "output_type": "stream",
     "text": [
      "8/4/2021\n"
     ]
    }
   ],
   "source": [
    "print(calendar)"
   ]
  },
  {
   "cell_type": "code",
   "execution_count": 6,
   "id": "3507ce5d",
   "metadata": {},
   "outputs": [],
   "source": [
    "calendar.__sub__(20)"
   ]
  },
  {
   "cell_type": "code",
   "execution_count": 7,
   "id": "73b65e34",
   "metadata": {},
   "outputs": [
    {
     "name": "stdout",
     "output_type": "stream",
     "text": [
      "19/3/2021\n"
     ]
    }
   ],
   "source": [
    "print(calendar)"
   ]
  },
  {
   "cell_type": "code",
   "execution_count": 8,
   "id": "e8f36e4d",
   "metadata": {},
   "outputs": [
    {
     "data": {
      "text/plain": [
       "True"
      ]
     },
     "execution_count": 8,
     "metadata": {},
     "output_type": "execute_result"
    }
   ],
   "source": [
    "calendar.__eq__(\"19/3/2021\")"
   ]
  },
  {
   "cell_type": "code",
   "execution_count": 9,
   "id": "d0dad8ac",
   "metadata": {},
   "outputs": [
    {
     "data": {
      "text/plain": [
       "False"
      ]
     },
     "execution_count": 9,
     "metadata": {},
     "output_type": "execute_result"
    }
   ],
   "source": [
    "calendar.__ne__(\"19/3/2021\")"
   ]
  },
  {
   "cell_type": "markdown",
   "id": "4beb002b",
   "metadata": {},
   "source": [
    "# fibClass\n",
    "\n",
    "- write a recursive function to determine the nth number of the Fibonacci sequence\n",
    "- put the function in a class"
   ]
  },
  {
   "cell_type": "code",
   "execution_count": 10,
   "id": "44beae07",
   "metadata": {},
   "outputs": [],
   "source": [
    "class fibClass():\n",
    "    \n",
    "    def __init__(self, number):\n",
    "        self.number = number\n",
    "        self.fibnum = self.fibonacci(number) \n",
    "        \n",
    "    def fibonacci(self, n):\n",
    "        if n == 1 or n == 2:\n",
    "            return 1\n",
    "        else:\n",
    "            return self.fibonacci(n-1) + self.fibonacci(n-2)"
   ]
  },
  {
   "cell_type": "code",
   "execution_count": 11,
   "id": "f85341ed",
   "metadata": {},
   "outputs": [],
   "source": [
    "fib = fibClass(9)"
   ]
  },
  {
   "cell_type": "code",
   "execution_count": 12,
   "id": "1e108fe2",
   "metadata": {},
   "outputs": [
    {
     "data": {
      "text/plain": [
       "34"
      ]
     },
     "execution_count": 12,
     "metadata": {},
     "output_type": "execute_result"
    }
   ],
   "source": [
    "fib.fibnum"
   ]
  }
 ],
 "metadata": {
  "kernelspec": {
   "display_name": "Python 3",
   "language": "python",
   "name": "python3"
  },
  "language_info": {
   "codemirror_mode": {
    "name": "ipython",
    "version": 3
   },
   "file_extension": ".py",
   "mimetype": "text/x-python",
   "name": "python",
   "nbconvert_exporter": "python",
   "pygments_lexer": "ipython3",
   "version": "3.8.8"
  }
 },
 "nbformat": 4,
 "nbformat_minor": 5
}
