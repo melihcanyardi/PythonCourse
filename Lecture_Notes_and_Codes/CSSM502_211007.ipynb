{
 "cells": [
  {
   "cell_type": "markdown",
   "id": "10acb452",
   "metadata": {},
   "source": [
    "# Object-Oriented Programming\n",
    "\n",
    "1. Namescape and Scope\n",
    "2. Class and Instance"
   ]
  },
  {
   "cell_type": "markdown",
   "id": "0bb606f7",
   "metadata": {},
   "source": [
    "## Namespace and Scope\n",
    "\n",
    "- Namespace: \"mapping from names to objects\"\n",
    "- Scope: level at which \"a namespace is directly accessible\"\n",
    "- Python follows the hierarchy:\n",
    "    - Innermost scope: local names\n",
    "    - Scopes of enclosing functions, innermost first\n",
    "    - Next-to-last-scope: Global names in current module\n",
    "    - Outermost scope: Built-in names such as int(), sum()"
   ]
  },
  {
   "cell_type": "markdown",
   "id": "f468cd35",
   "metadata": {},
   "source": [
    "## Namespace: How does it work?"
   ]
  },
  {
   "cell_type": "code",
   "execution_count": 1,
   "id": "2938edfc",
   "metadata": {},
   "outputs": [],
   "source": [
    "def print_int(int):\n",
    "    print('Here is an integer: %s' %int)"
   ]
  },
  {
   "cell_type": "code",
   "execution_count": 2,
   "id": "c067c390",
   "metadata": {},
   "outputs": [
    {
     "name": "stdout",
     "output_type": "stream",
     "text": [
      "Here is an integer: 3\n"
     ]
    }
   ],
   "source": [
    "print_int(3)"
   ]
  },
  {
   "cell_type": "markdown",
   "id": "f8b303c4",
   "metadata": {},
   "source": [
    "- Although _int_ is a built-in name, the function first searches local scope.\n",
    "- But, do not do this!"
   ]
  },
  {
   "cell_type": "code",
   "execution_count": 3,
   "id": "20b9752b",
   "metadata": {},
   "outputs": [
    {
     "ename": "NameError",
     "evalue": "name 'random1' is not defined",
     "output_type": "error",
     "traceback": [
      "\u001b[1;31m---------------------------------------------------------------------------\u001b[0m",
      "\u001b[1;31mNameError\u001b[0m                                 Traceback (most recent call last)",
      "\u001b[1;32m<ipython-input-3-1ea59ebea5dd>\u001b[0m in \u001b[0;36m<module>\u001b[1;34m\u001b[0m\n\u001b[0;32m      6\u001b[0m     \u001b[1;32mreturn\u001b[0m \u001b[0mrandom1\u001b[0m\u001b[1;33m*\u001b[0m\u001b[0mrandom2\u001b[0m\u001b[1;33m\u001b[0m\u001b[1;33m\u001b[0m\u001b[0m\n\u001b[0;32m      7\u001b[0m \u001b[1;33m\u001b[0m\u001b[0m\n\u001b[1;32m----> 8\u001b[1;33m \u001b[0mprint\u001b[0m\u001b[1;33m(\u001b[0m\u001b[0mrandom_product\u001b[0m\u001b[1;33m(\u001b[0m\u001b[1;36m0\u001b[0m\u001b[1;33m,\u001b[0m \u001b[1;36m1\u001b[0m\u001b[1;33m)\u001b[0m\u001b[1;33m)\u001b[0m\u001b[1;33m\u001b[0m\u001b[1;33m\u001b[0m\u001b[0m\n\u001b[0m",
      "\u001b[1;32m<ipython-input-3-1ea59ebea5dd>\u001b[0m in \u001b[0;36mrandom_product\u001b[1;34m(lower, upper)\u001b[0m\n\u001b[0;32m      2\u001b[0m \u001b[1;33m\u001b[0m\u001b[0m\n\u001b[0;32m      3\u001b[0m \u001b[1;32mdef\u001b[0m \u001b[0mrandom_product\u001b[0m\u001b[1;33m(\u001b[0m\u001b[0mlower\u001b[0m\u001b[1;33m,\u001b[0m \u001b[0mupper\u001b[0m\u001b[1;33m)\u001b[0m\u001b[1;33m:\u001b[0m\u001b[1;33m\u001b[0m\u001b[1;33m\u001b[0m\u001b[0m\n\u001b[1;32m----> 4\u001b[1;33m     \u001b[0mrandom1\u001b[0m\u001b[1;33m\u001b[0m\u001b[1;33m\u001b[0m\u001b[0m\n\u001b[0m\u001b[0;32m      5\u001b[0m     \u001b[0mrandom2\u001b[0m\u001b[1;33m\u001b[0m\u001b[1;33m\u001b[0m\u001b[0m\n\u001b[0;32m      6\u001b[0m     \u001b[1;32mreturn\u001b[0m \u001b[0mrandom1\u001b[0m\u001b[1;33m*\u001b[0m\u001b[0mrandom2\u001b[0m\u001b[1;33m\u001b[0m\u001b[1;33m\u001b[0m\u001b[0m\n",
      "\u001b[1;31mNameError\u001b[0m: name 'random1' is not defined"
     ]
    }
   ],
   "source": [
    "# Function that returns the product of random draws from a uniform distribution\n",
    "\n",
    "def random_product(lower, upper):\n",
    "    random1\n",
    "    random2\n",
    "    return random1*random2\n",
    "\n",
    "print(random_product(0, 1))"
   ]
  },
  {
   "cell_type": "code",
   "execution_count": 4,
   "id": "f4c1c7a7",
   "metadata": {},
   "outputs": [
    {
     "ename": "NameError",
     "evalue": "name 'uniform' is not defined",
     "output_type": "error",
     "traceback": [
      "\u001b[1;31m---------------------------------------------------------------------------\u001b[0m",
      "\u001b[1;31mNameError\u001b[0m                                 Traceback (most recent call last)",
      "\u001b[1;32m<ipython-input-4-35bb9e3ea4a4>\u001b[0m in \u001b[0;36m<module>\u001b[1;34m\u001b[0m\n\u001b[0;32m      9\u001b[0m     \u001b[1;32mreturn\u001b[0m \u001b[0mrandom1\u001b[0m\u001b[1;33m*\u001b[0m\u001b[0mrandom2\u001b[0m\u001b[1;33m\u001b[0m\u001b[1;33m\u001b[0m\u001b[0m\n\u001b[0;32m     10\u001b[0m \u001b[1;33m\u001b[0m\u001b[0m\n\u001b[1;32m---> 11\u001b[1;33m \u001b[0mprint\u001b[0m\u001b[1;33m(\u001b[0m\u001b[0mrandom_product\u001b[0m\u001b[1;33m(\u001b[0m\u001b[1;36m0\u001b[0m\u001b[1;33m,\u001b[0m \u001b[1;36m1\u001b[0m\u001b[1;33m)\u001b[0m\u001b[1;33m)\u001b[0m\u001b[1;33m\u001b[0m\u001b[1;33m\u001b[0m\u001b[0m\n\u001b[0m",
      "\u001b[1;32m<ipython-input-4-35bb9e3ea4a4>\u001b[0m in \u001b[0;36mrandom_product\u001b[1;34m(lower, upper)\u001b[0m\n\u001b[0;32m      5\u001b[0m \u001b[1;33m\u001b[0m\u001b[0m\n\u001b[0;32m      6\u001b[0m \u001b[1;32mdef\u001b[0m \u001b[0mrandom_product\u001b[0m\u001b[1;33m(\u001b[0m\u001b[0mlower\u001b[0m\u001b[1;33m,\u001b[0m \u001b[0mupper\u001b[0m\u001b[1;33m)\u001b[0m\u001b[1;33m:\u001b[0m\u001b[1;33m\u001b[0m\u001b[1;33m\u001b[0m\u001b[0m\n\u001b[1;32m----> 7\u001b[1;33m     \u001b[0mrandom1\u001b[0m \u001b[1;33m=\u001b[0m \u001b[0muniform\u001b[0m\u001b[1;33m(\u001b[0m\u001b[0mlower\u001b[0m\u001b[1;33m,\u001b[0m \u001b[0mupper\u001b[0m\u001b[1;33m)\u001b[0m\u001b[1;33m\u001b[0m\u001b[1;33m\u001b[0m\u001b[0m\n\u001b[0m\u001b[0;32m      8\u001b[0m     \u001b[0mrandom2\u001b[0m \u001b[1;33m=\u001b[0m \u001b[0muniform\u001b[0m\u001b[1;33m(\u001b[0m\u001b[0mlower\u001b[0m\u001b[1;33m,\u001b[0m \u001b[0mupper\u001b[0m\u001b[1;33m)\u001b[0m\u001b[1;33m\u001b[0m\u001b[1;33m\u001b[0m\u001b[0m\n\u001b[0;32m      9\u001b[0m     \u001b[1;32mreturn\u001b[0m \u001b[0mrandom1\u001b[0m\u001b[1;33m*\u001b[0m\u001b[0mrandom2\u001b[0m\u001b[1;33m\u001b[0m\u001b[1;33m\u001b[0m\u001b[0m\n",
      "\u001b[1;31mNameError\u001b[0m: name 'uniform' is not defined"
     ]
    }
   ],
   "source": [
    "# We need to define random1 and random2\n",
    "# We need to import the random module\n",
    "\n",
    "import random\n",
    "\n",
    "def random_product(lower, upper):\n",
    "    random1 = uniform(lower, upper)\n",
    "    random2 = uniform(lower, upper)\n",
    "    return random1*random2\n",
    "\n",
    "print(random_product(0, 1))"
   ]
  },
  {
   "cell_type": "code",
   "execution_count": 5,
   "id": "933cb240",
   "metadata": {},
   "outputs": [
    {
     "name": "stdout",
     "output_type": "stream",
     "text": [
      "0.30796002495140673\n"
     ]
    }
   ],
   "source": [
    "# We need to add the module name before the global name\n",
    "\n",
    "import random\n",
    "\n",
    "def random_product(lower, upper):\n",
    "    random1 = random.uniform(lower, upper)\n",
    "    random2 = random.uniform(lower, upper)\n",
    "    return random1*random2\n",
    "\n",
    "print(random_product(0, 1))"
   ]
  },
  {
   "cell_type": "markdown",
   "id": "ad27c0a3",
   "metadata": {},
   "source": [
    "## Class and Instance\n",
    "\n",
    "- Classes help you create objects with\n",
    "    - certain attributes\n",
    "    - ability to perform certain functions\n",
    "- An instance is a particular realization of a class"
   ]
  },
  {
   "cell_type": "markdown",
   "id": "ac20d8e9",
   "metadata": {},
   "source": [
    "## Class and Instance: How to do it?"
   ]
  },
  {
   "cell_type": "code",
   "execution_count": 6,
   "id": "991ff005",
   "metadata": {},
   "outputs": [],
   "source": [
    "# Create a class\n",
    "class human(object):\n",
    "    latin_name = 'homo sapien' # Attribute for the class\n",
    "    \n",
    "# Create an instance of a class and name it 'me'.\n",
    "me = human()"
   ]
  },
  {
   "cell_type": "code",
   "execution_count": 7,
   "id": "fe7e5cd8",
   "metadata": {},
   "outputs": [],
   "source": [
    "class human(object):\n",
    "    latin_name = 'homo sapien' # Attribute for the class\n",
    "    \n",
    "    # Add attributes for the instances.\n",
    "    def __init__(self, age, sex, name): # initializer or constructor\n",
    "        self.age = age\n",
    "        self.name = name\n",
    "        self.sex = sex"
   ]
  },
  {
   "cell_type": "markdown",
   "id": "17a66c53",
   "metadata": {},
   "source": [
    "- You can set default values for attributes.\n",
    "- Make sure you list non-default arguments first."
   ]
  },
  {
   "cell_type": "code",
   "execution_count": 8,
   "id": "c417727f",
   "metadata": {},
   "outputs": [],
   "source": [
    "class human(object):\n",
    "    latin_name = 'homo sapien' # Attribute for the class\n",
    "    \n",
    "    # Add attributes for the instances.\n",
    "    def __init__(self, age, sex, name): # initializer or constructor\n",
    "        self.age = age\n",
    "        self.name = name\n",
    "        self.sex = sex\n",
    "        \n",
    "    # Add some functions\n",
    "    def speak(self, words):\n",
    "        return words\n",
    "    \n",
    "    def introduce(self):\n",
    "        if self.sex == 'Female':\n",
    "            return self.speak(\"Hello, I'm Ms. %s\" % self.name)\n",
    "        elif self.sex == 'Male':\n",
    "            return self.speak(\"Hello, I'm Mr. %s\" % self.name)\n",
    "        else:\n",
    "            return self.speak(\"Hello, I'm %s\" % name)"
   ]
  },
  {
   "cell_type": "markdown",
   "id": "0c5bbe88",
   "metadata": {},
   "source": [
    "- dir(human) lists all the methods of the class."
   ]
  },
  {
   "cell_type": "code",
   "execution_count": 9,
   "id": "09e0cb4a",
   "metadata": {},
   "outputs": [
    {
     "data": {
      "text/plain": [
       "['__class__',\n",
       " '__delattr__',\n",
       " '__dict__',\n",
       " '__dir__',\n",
       " '__doc__',\n",
       " '__eq__',\n",
       " '__format__',\n",
       " '__ge__',\n",
       " '__getattribute__',\n",
       " '__gt__',\n",
       " '__hash__',\n",
       " '__init__',\n",
       " '__init_subclass__',\n",
       " '__le__',\n",
       " '__lt__',\n",
       " '__module__',\n",
       " '__ne__',\n",
       " '__new__',\n",
       " '__reduce__',\n",
       " '__reduce_ex__',\n",
       " '__repr__',\n",
       " '__setattr__',\n",
       " '__sizeof__',\n",
       " '__str__',\n",
       " '__subclasshook__',\n",
       " '__weakref__',\n",
       " 'introduce',\n",
       " 'latin_name',\n",
       " 'speak']"
      ]
     },
     "execution_count": 9,
     "metadata": {},
     "output_type": "execute_result"
    }
   ],
   "source": [
    "dir(human)"
   ]
  },
  {
   "cell_type": "markdown",
   "id": "1d860a88",
   "metadata": {},
   "source": [
    "## Inheritance and Polymorphism\n",
    "\n",
    "- Inheritance enables you to create sub-classes that inherit the methods of another class.\n",
    "- Polymorphism adapts a given method of a class to its sub-classes.\n",
    "- Keep it DRY"
   ]
  },
  {
   "cell_type": "markdown",
   "id": "20f03845",
   "metadata": {},
   "source": [
    "### Example: Parent-Child"
   ]
  },
  {
   "cell_type": "code",
   "execution_count": 10,
   "id": "c0b76915",
   "metadata": {},
   "outputs": [],
   "source": [
    "class Parent():\n",
    "    def __init__(self, sex, firstname, lastname):\n",
    "        self.sex = sex\n",
    "        self.firstname = firstname\n",
    "        self.lastname = lastname\n",
    "        self.kids = []\n",
    "        \n",
    "    def role(self):\n",
    "        if self.sex == \"Male\":\n",
    "            return \"Father\"\n",
    "        else:\n",
    "            return \"Mother\"\n",
    "        \n",
    "    def have_child(self, name):\n",
    "        child = Child(name, self)\n",
    "        print(self.firstname + \" is having a child named \" + child.name())\n",
    "        print(\"They will make a very good \" + self.role())\n",
    "        self.kids.append(child)\n",
    "        return child\n",
    "    \n",
    "    def list_children(self):\n",
    "        for kid in self.kids:\n",
    "            print(\"I am the \" + self.role() + \" of \" + kid.name())\n",
    "            \n",
    "class Child():\n",
    "    def __init__(self, firstname, parent):\n",
    "        self.parent = parent\n",
    "        self.lastname = parent.lastname\n",
    "        self.firstname = firstname\n",
    "    \n",
    "    def set_name(self, new_first_name, new_last_name):\n",
    "        self.firstname = new_first_name\n",
    "        self.lastname = new_last_name\n",
    "        \n",
    "    def name(self):\n",
    "        return \"%s %s \" % (self.firstname, self.lastname)\n",
    "    \n",
    "    def introduce(self):\n",
    "        return \"Hi I'm \" + self.name()\n",
    "    \n",
    "    def siblings(self):\n",
    "        for kid in self.parent.kids:\n",
    "            if kid != self:\n",
    "                print(\"I have a sibling named \" + kid.name())\n",
    "                \n",
    "    def __str__(self):\n",
    "        return \"%s\" %self.firstname"
   ]
  },
  {
   "cell_type": "code",
   "execution_count": 11,
   "id": "780a1396",
   "metadata": {},
   "outputs": [],
   "source": [
    "mom = Parent(\"Female\", \"Jane\", \"Smith\")\n",
    "\n",
    "mom.list_children()"
   ]
  },
  {
   "cell_type": "code",
   "execution_count": 12,
   "id": "99c58b81",
   "metadata": {},
   "outputs": [
    {
     "name": "stdout",
     "output_type": "stream",
     "text": [
      "Jane is having a child named Jill Smith \n",
      "They will make a very good Mother\n"
     ]
    }
   ],
   "source": [
    "jill = mom.have_child(\"Jill\")"
   ]
  },
  {
   "cell_type": "code",
   "execution_count": 13,
   "id": "98edb540",
   "metadata": {},
   "outputs": [
    {
     "data": {
      "text/plain": [
       "'Jill'"
      ]
     },
     "execution_count": 13,
     "metadata": {},
     "output_type": "execute_result"
    }
   ],
   "source": [
    "jill.firstname"
   ]
  },
  {
   "cell_type": "code",
   "execution_count": 14,
   "id": "ce11aec4",
   "metadata": {},
   "outputs": [
    {
     "data": {
      "text/plain": [
       "'Jane'"
      ]
     },
     "execution_count": 14,
     "metadata": {},
     "output_type": "execute_result"
    }
   ],
   "source": [
    "jill.parent.firstname"
   ]
  },
  {
   "cell_type": "code",
   "execution_count": 15,
   "id": "20543b51",
   "metadata": {},
   "outputs": [],
   "source": [
    "jill.set_name(\"Jillian\", \"Jones\")"
   ]
  },
  {
   "cell_type": "code",
   "execution_count": 16,
   "id": "d423ef0c",
   "metadata": {},
   "outputs": [
    {
     "name": "stdout",
     "output_type": "stream",
     "text": [
      "Hi I'm Jillian Jones \n"
     ]
    }
   ],
   "source": [
    "print(jill.introduce())"
   ]
  },
  {
   "cell_type": "code",
   "execution_count": 17,
   "id": "6ef73214",
   "metadata": {},
   "outputs": [
    {
     "name": "stdout",
     "output_type": "stream",
     "text": [
      "True\n"
     ]
    }
   ],
   "source": [
    "print(jill == mom.kids[0])"
   ]
  },
  {
   "cell_type": "code",
   "execution_count": 18,
   "id": "801cc479",
   "metadata": {},
   "outputs": [
    {
     "name": "stdout",
     "output_type": "stream",
     "text": [
      "Jane is having a child named Jack Smith \n",
      "They will make a very good Mother\n"
     ]
    }
   ],
   "source": [
    "jack = mom.have_child(\"Jack\")"
   ]
  },
  {
   "cell_type": "code",
   "execution_count": 19,
   "id": "e12e21d0",
   "metadata": {},
   "outputs": [
    {
     "name": "stdout",
     "output_type": "stream",
     "text": [
      "Hi I'm Jack Smith \n"
     ]
    }
   ],
   "source": [
    "print(jack.introduce())"
   ]
  },
  {
   "cell_type": "code",
   "execution_count": 20,
   "id": "4c1cdbc9",
   "metadata": {},
   "outputs": [
    {
     "name": "stdout",
     "output_type": "stream",
     "text": [
      "I am the Mother of Jillian Jones \n",
      "I am the Mother of Jack Smith \n"
     ]
    }
   ],
   "source": [
    "jack.parent.kids[0].parent.list_children()"
   ]
  },
  {
   "cell_type": "code",
   "execution_count": 21,
   "id": "f4d9d1fa",
   "metadata": {},
   "outputs": [
    {
     "name": "stdout",
     "output_type": "stream",
     "text": [
      "I have a sibling named Jillian Jones \n"
     ]
    }
   ],
   "source": [
    "jack.siblings()"
   ]
  },
  {
   "cell_type": "markdown",
   "id": "1d09dd65",
   "metadata": {},
   "source": [
    "### Example: School\n",
    "\n",
    " - Add a student's name to the roster for a grade\n",
    " - Get a list of all students enrolled in a grade\n",
    " - Get a sorted list of all students in all grades\n",
    " \n",
    " Note that all our students only have one name.\n",
    " (It's a small town, what do you want?)"
   ]
  },
  {
   "cell_type": "code",
   "execution_count": 22,
   "id": "c8b300de",
   "metadata": {},
   "outputs": [],
   "source": [
    "class School():\n",
    "    def __init__(self, school_name): # initialize instance of class School with parameter name\n",
    "        self.school_name = school_name # user must put name, no default\n",
    "        self.db = {} # initialize empty dictionary to store kids and grades\n",
    "        \n",
    "    def add(self, name, student_grade): # add a kid to a grade in instance of School\n",
    "        if student_grade in self.db: # need to check if the key for the grade already exists, otherwise assigning it will return error\n",
    "            self.db[student_grade].add(name) # add kid to the set of kids within the dictionary\n",
    "        else:\n",
    "            self.db[student_grade] = {name} # if the key doesn't exist, create it and put kid in\n",
    "            \n",
    "    def sort(self): # sorts kids alphabetically and returns them in tuples (because they are immutable)\n",
    "        sorted_students = {} # sets up empty dictionary to store sorted tuples\n",
    "        for key in self.db.keys(): # loop through each key\n",
    "            sorted_students[key] = tuple(sorted(self.db[key])) # add dictionary entry with key being the grade and the entry the tuple of kids\n",
    "        return sorted_students\n",
    "    \n",
    "    def grade(self, check_grade):\n",
    "        if check_grade not in self.db:\n",
    "            return None # if key doesn't exist, there are no kids in that grade: return None\n",
    "        return self.db[check_grade] # if None wasn't returned above, return elements within dictionary, or kids in grade\n",
    "    \n",
    "    def __str__(self): # print function will display the school name on one line, and sorted kids on other line\n",
    "        return \"%s\\n%s\" %(self.school_name, self.sort())"
   ]
  },
  {
   "cell_type": "markdown",
   "id": "ddb0b121",
   "metadata": {},
   "source": [
    "### Example: Polymorphism"
   ]
  },
  {
   "cell_type": "code",
   "execution_count": 23,
   "id": "156c007a",
   "metadata": {},
   "outputs": [],
   "source": [
    "class Animal(object):\n",
    "    living = \"Yes!\"\n",
    "    \n",
    "    def __init__(self, name): # Constructor of the class\n",
    "        self.name = name\n",
    "        \n",
    "    def talk(self): # Abstract method, defined by convention only\n",
    "        raise NotImplementedError(\"Subclass must implement abstract method\")\n",
    "        \n",
    "class Cat(Animal):\n",
    "    \n",
    "    def talk(self):\n",
    "        return self.meow()\n",
    "    \n",
    "    def meow(self):\n",
    "        return 'Meow!'\n",
    "    \n",
    "class Dog(Animal):\n",
    "    \n",
    "    def talk(self):\n",
    "        return self.bark()\n",
    "    \n",
    "    def bark(self):\n",
    "        return 'Woof! Woof!'\n",
    "    \n",
    "class Fish(Animal):\n",
    "    \n",
    "    def swim(self):\n",
    "        pass\n",
    "    \n",
    "    def __str__(self):\n",
    "        return \"I am a fish!\""
   ]
  },
  {
   "cell_type": "code",
   "execution_count": 24,
   "id": "8891c516",
   "metadata": {},
   "outputs": [],
   "source": [
    "animals = [Cat('Foo'),\n",
    "           Dog('Bar'),\n",
    "           Fish('Nemo')]"
   ]
  },
  {
   "cell_type": "code",
   "execution_count": 25,
   "id": "20edaafb",
   "metadata": {},
   "outputs": [
    {
     "name": "stdout",
     "output_type": "stream",
     "text": [
      "Foo: Meow!\n",
      "Bar: Woof! Woof!\n"
     ]
    },
    {
     "ename": "NotImplementedError",
     "evalue": "Subclass must implement abstract method",
     "output_type": "error",
     "traceback": [
      "\u001b[1;31m---------------------------------------------------------------------------\u001b[0m",
      "\u001b[1;31mNotImplementedError\u001b[0m                       Traceback (most recent call last)",
      "\u001b[1;32m<ipython-input-25-6729406815f7>\u001b[0m in \u001b[0;36m<module>\u001b[1;34m\u001b[0m\n\u001b[0;32m      1\u001b[0m \u001b[1;32mfor\u001b[0m \u001b[0manimal\u001b[0m \u001b[1;32min\u001b[0m \u001b[0manimals\u001b[0m\u001b[1;33m:\u001b[0m\u001b[1;33m\u001b[0m\u001b[1;33m\u001b[0m\u001b[0m\n\u001b[1;32m----> 2\u001b[1;33m     \u001b[0mprint\u001b[0m\u001b[1;33m(\u001b[0m\u001b[0manimal\u001b[0m\u001b[1;33m.\u001b[0m\u001b[0mname\u001b[0m \u001b[1;33m+\u001b[0m \u001b[1;34m': '\u001b[0m \u001b[1;33m+\u001b[0m \u001b[0manimal\u001b[0m\u001b[1;33m.\u001b[0m\u001b[0mtalk\u001b[0m\u001b[1;33m(\u001b[0m\u001b[1;33m)\u001b[0m\u001b[1;33m)\u001b[0m\u001b[1;33m\u001b[0m\u001b[1;33m\u001b[0m\u001b[0m\n\u001b[0m",
      "\u001b[1;32m<ipython-input-23-4636bfa90bdf>\u001b[0m in \u001b[0;36mtalk\u001b[1;34m(self)\u001b[0m\n\u001b[0;32m      6\u001b[0m \u001b[1;33m\u001b[0m\u001b[0m\n\u001b[0;32m      7\u001b[0m     \u001b[1;32mdef\u001b[0m \u001b[0mtalk\u001b[0m\u001b[1;33m(\u001b[0m\u001b[0mself\u001b[0m\u001b[1;33m)\u001b[0m\u001b[1;33m:\u001b[0m \u001b[1;31m# Abstract method, defined by convention only\u001b[0m\u001b[1;33m\u001b[0m\u001b[1;33m\u001b[0m\u001b[0m\n\u001b[1;32m----> 8\u001b[1;33m         \u001b[1;32mraise\u001b[0m \u001b[0mNotImplementedError\u001b[0m\u001b[1;33m(\u001b[0m\u001b[1;34m\"Subclass must implement abstract method\"\u001b[0m\u001b[1;33m)\u001b[0m\u001b[1;33m\u001b[0m\u001b[1;33m\u001b[0m\u001b[0m\n\u001b[0m\u001b[0;32m      9\u001b[0m \u001b[1;33m\u001b[0m\u001b[0m\n\u001b[0;32m     10\u001b[0m \u001b[1;32mclass\u001b[0m \u001b[0mCat\u001b[0m\u001b[1;33m(\u001b[0m\u001b[0mAnimal\u001b[0m\u001b[1;33m)\u001b[0m\u001b[1;33m:\u001b[0m\u001b[1;33m\u001b[0m\u001b[1;33m\u001b[0m\u001b[0m\n",
      "\u001b[1;31mNotImplementedError\u001b[0m: Subclass must implement abstract method"
     ]
    }
   ],
   "source": [
    "for animal in animals:\n",
    "    print(animal.name + ': ' + animal.talk())"
   ]
  },
  {
   "cell_type": "code",
   "execution_count": 26,
   "id": "910ec1c0",
   "metadata": {},
   "outputs": [
    {
     "name": "stdout",
     "output_type": "stream",
     "text": [
      "Hi, I am a fish!\n"
     ]
    }
   ],
   "source": [
    "f = Fish(\"foo\")\n",
    "print(\"Hi, \" + str(f))"
   ]
  }
 ],
 "metadata": {
  "kernelspec": {
   "display_name": "Python 3",
   "language": "python",
   "name": "python3"
  },
  "language_info": {
   "codemirror_mode": {
    "name": "ipython",
    "version": 3
   },
   "file_extension": ".py",
   "mimetype": "text/x-python",
   "name": "python",
   "nbconvert_exporter": "python",
   "pygments_lexer": "ipython3",
   "version": "3.8.8"
  }
 },
 "nbformat": 4,
 "nbformat_minor": 5
}
