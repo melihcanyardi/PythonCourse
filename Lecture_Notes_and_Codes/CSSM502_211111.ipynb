{
 "cells": [
  {
   "cell_type": "markdown",
   "id": "ba4e7775",
   "metadata": {},
   "source": [
    "# APIs (Application Programming Interfaces)"
   ]
  },
  {
   "cell_type": "markdown",
   "id": "c523b56c",
   "metadata": {},
   "source": [
    "## KocPythonFall2021/inclass/5APIs/geo.py"
   ]
  },
  {
   "cell_type": "code",
   "execution_count": 1,
   "id": "e39cd5bf",
   "metadata": {},
   "outputs": [
    {
     "name": "stdout",
     "output_type": "stream",
     "text": [
      "Requirement already satisfied: geopy in c:\\users\\melihcanyardi\\anaconda3\\lib\\site-packages (2.2.0)\n",
      "Requirement already satisfied: geographiclib<2,>=1.49 in c:\\users\\melihcanyardi\\anaconda3\\lib\\site-packages (from geopy) (1.52)\n"
     ]
    }
   ],
   "source": [
    "!pip install geopy"
   ]
  },
  {
   "cell_type": "code",
   "execution_count": 2,
   "id": "47085a3a",
   "metadata": {},
   "outputs": [],
   "source": [
    "from geopy.geocoders import Nominatim"
   ]
  },
  {
   "cell_type": "code",
   "execution_count": 3,
   "id": "1a1eda33",
   "metadata": {},
   "outputs": [
    {
     "name": "stdout",
     "output_type": "stream",
     "text": [
      "Washington, District of Columbia, United States\n",
      "(38.8950368, -77.0365427)\n"
     ]
    }
   ],
   "source": [
    "geolocator = Nominatim(user_agent = 'myardi21@ku.edu.tr') #use your email address\n",
    "location = geolocator.geocode('Washington, DC')\n",
    "\n",
    "print(location.address)\n",
    "print((location.latitude, location.longitude))"
   ]
  },
  {
   "cell_type": "code",
   "execution_count": 4,
   "id": "652f0ef8",
   "metadata": {},
   "outputs": [
    {
     "name": "stdout",
     "output_type": "stream",
     "text": [
      "Ciudad de México, México\n",
      "(19.4326296, -99.1331785)\n"
     ]
    }
   ],
   "source": [
    "location2 = geolocator.geocode('Mexico City')\n",
    "\n",
    "print(location2.address)\n",
    "print((location2.latitude, location2.longitude))"
   ]
  },
  {
   "cell_type": "markdown",
   "id": "95c49e9c",
   "metadata": {},
   "source": [
    "### Distance between capitals"
   ]
  },
  {
   "cell_type": "code",
   "execution_count": 5,
   "id": "54d048e0",
   "metadata": {},
   "outputs": [],
   "source": [
    "from math import radians, sin, cos, acos\n",
    "\n",
    "def distance(loc1, loc2):\n",
    "    return 6371.01 * acos(sin(radians(loc1.latitude))*sin(radians(loc2.latitude)) + cos(radians(loc1.latitude))*cos(radians(loc2.latitude))*cos(radians(loc1.longitude) - radians(loc2.longitude)))"
   ]
  },
  {
   "cell_type": "code",
   "execution_count": 6,
   "id": "12887b80",
   "metadata": {},
   "outputs": [
    {
     "data": {
      "text/plain": [
       "3030.9806813568916"
      ]
     },
     "execution_count": 6,
     "metadata": {},
     "output_type": "execute_result"
    }
   ],
   "source": [
    "distance(location, location2)"
   ]
  },
  {
   "cell_type": "markdown",
   "id": "88c153dc",
   "metadata": {},
   "source": [
    "### TODO: Create a distance matrix of 5 capitals"
   ]
  },
  {
   "cell_type": "code",
   "execution_count": 7,
   "id": "ecac5cfe",
   "metadata": {},
   "outputs": [],
   "source": [
    "import numpy as np\n",
    "import pandas as pd"
   ]
  },
  {
   "cell_type": "code",
   "execution_count": 8,
   "id": "51442c4b",
   "metadata": {},
   "outputs": [],
   "source": [
    "ankara = geolocator.geocode('Ankara')\n",
    "paris = geolocator.geocode('Paris')\n",
    "berlin = geolocator.geocode('Berlin')\n",
    "tokyo = geolocator.geocode('Tokyo')\n",
    "moscow = geolocator.geocode('Moscow')"
   ]
  },
  {
   "cell_type": "code",
   "execution_count": 9,
   "id": "131c5037",
   "metadata": {},
   "outputs": [],
   "source": [
    "capitals = [ankara, paris, berlin, tokyo, moscow]\n",
    "capital_names = ['Ankara', 'Paris', 'Berlin', 'Tokyo', 'Moscow']"
   ]
  },
  {
   "cell_type": "code",
   "execution_count": 10,
   "id": "7465e679",
   "metadata": {},
   "outputs": [],
   "source": [
    "distances = []\n",
    "\n",
    "for capital in capitals:\n",
    "    for capital_2 in capitals:\n",
    "        distances.append(distance(capital, capital_2))"
   ]
  },
  {
   "cell_type": "code",
   "execution_count": 11,
   "id": "751a7ded",
   "metadata": {},
   "outputs": [
    {
     "data": {
      "text/html": [
       "<div>\n",
       "<style scoped>\n",
       "    .dataframe tbody tr th:only-of-type {\n",
       "        vertical-align: middle;\n",
       "    }\n",
       "\n",
       "    .dataframe tbody tr th {\n",
       "        vertical-align: top;\n",
       "    }\n",
       "\n",
       "    .dataframe thead th {\n",
       "        text-align: right;\n",
       "    }\n",
       "</style>\n",
       "<table border=\"1\" class=\"dataframe\">\n",
       "  <thead>\n",
       "    <tr style=\"text-align: right;\">\n",
       "      <th></th>\n",
       "      <th>Ankara</th>\n",
       "      <th>Paris</th>\n",
       "      <th>Berlin</th>\n",
       "      <th>Tokyo</th>\n",
       "      <th>Moscow</th>\n",
       "    </tr>\n",
       "  </thead>\n",
       "  <tbody>\n",
       "    <tr>\n",
       "      <th>Ankara</th>\n",
       "      <td>0.000000</td>\n",
       "      <td>2599.857688</td>\n",
       "      <td>2038.295752</td>\n",
       "      <td>8769.084311</td>\n",
       "      <td>1794.671002</td>\n",
       "    </tr>\n",
       "    <tr>\n",
       "      <th>Paris</th>\n",
       "      <td>2599.857688</td>\n",
       "      <td>0.000000</td>\n",
       "      <td>878.196739</td>\n",
       "      <td>9716.560512</td>\n",
       "      <td>2488.109940</td>\n",
       "    </tr>\n",
       "    <tr>\n",
       "      <th>Berlin</th>\n",
       "      <td>2038.295752</td>\n",
       "      <td>878.196739</td>\n",
       "      <td>0.000000</td>\n",
       "      <td>8920.778106</td>\n",
       "      <td>1609.952086</td>\n",
       "    </tr>\n",
       "    <tr>\n",
       "      <th>Tokyo</th>\n",
       "      <td>8769.084311</td>\n",
       "      <td>9716.560512</td>\n",
       "      <td>8920.778106</td>\n",
       "      <td>0.000000</td>\n",
       "      <td>7482.789816</td>\n",
       "    </tr>\n",
       "    <tr>\n",
       "      <th>Moscow</th>\n",
       "      <td>1794.671002</td>\n",
       "      <td>2488.109940</td>\n",
       "      <td>1609.952086</td>\n",
       "      <td>7482.789816</td>\n",
       "      <td>0.000000</td>\n",
       "    </tr>\n",
       "  </tbody>\n",
       "</table>\n",
       "</div>"
      ],
      "text/plain": [
       "             Ankara        Paris       Berlin        Tokyo       Moscow\n",
       "Ankara     0.000000  2599.857688  2038.295752  8769.084311  1794.671002\n",
       "Paris   2599.857688     0.000000   878.196739  9716.560512  2488.109940\n",
       "Berlin  2038.295752   878.196739     0.000000  8920.778106  1609.952086\n",
       "Tokyo   8769.084311  9716.560512  8920.778106     0.000000  7482.789816\n",
       "Moscow  1794.671002  2488.109940  1609.952086  7482.789816     0.000000"
      ]
     },
     "metadata": {},
     "output_type": "display_data"
    }
   ],
   "source": [
    "distance_matrix = pd.DataFrame(np.array(distances).reshape((5, 5)), index=capital_names, columns=capital_names)\n",
    "display(distance_matrix)"
   ]
  }
 ],
 "metadata": {
  "kernelspec": {
   "display_name": "Python 3",
   "language": "python",
   "name": "python3"
  },
  "language_info": {
   "codemirror_mode": {
    "name": "ipython",
    "version": 3
   },
   "file_extension": ".py",
   "mimetype": "text/x-python",
   "name": "python",
   "nbconvert_exporter": "python",
   "pygments_lexer": "ipython3",
   "version": "3.8.8"
  }
 },
 "nbformat": 4,
 "nbformat_minor": 5
}
