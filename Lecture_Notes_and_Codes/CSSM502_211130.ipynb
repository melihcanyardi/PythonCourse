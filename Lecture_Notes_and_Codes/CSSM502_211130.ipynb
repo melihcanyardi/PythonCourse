{
 "cells": [
  {
   "cell_type": "markdown",
   "id": "2ae7063d",
   "metadata": {},
   "source": [
    "# 6LinMod/assump.py"
   ]
  },
  {
   "cell_type": "code",
   "execution_count": 1,
   "id": "a0d80dff",
   "metadata": {},
   "outputs": [],
   "source": [
    "import numpy as np, pandas as pd\n",
    "from matplotlib import pyplot as plt\n",
    "import seaborn as sns\n",
    "import scipy.stats as stats\n",
    "import statsmodels.api as sm\n",
    "\n",
    "import os\n",
    "os.chdir('../KocPythonFall2021/inclass/6LinMod/')"
   ]
  },
  {
   "cell_type": "code",
   "execution_count": 2,
   "id": "cfc22eb2",
   "metadata": {},
   "outputs": [],
   "source": [
    "data = pd.read_stata('TamingGods.dta')\n",
    "\n",
    "data.head()\n",
    "data.describe()\n",
    "data.columns\n",
    "#lets check if ethnic fractionalization is correlated with religious repression\n",
    "data = data[['Religion', 'Ethnic']].dropna()\n",
    "y = data['Religion']\n",
    "X = pd.DataFrame(data['Ethnic'])\n",
    "X['constant'] = 1\n",
    "myFit = sm.OLS(y, X).fit()"
   ]
  },
  {
   "cell_type": "markdown",
   "id": "411656d2",
   "metadata": {},
   "source": [
    "## Linearity\n",
    "- The dependent variable (y) is assumed to be a linear function of the independent variables (X, features) specified in the model. The specification must be linear in its parameters. Fitting a linear model to data with non-linear patterns results in serious prediction errors, especially out-of-sample (data not used for training the model).\n",
    "\n",
    "- To detect nonlinearity one can inspect plots of observed vs. predicted values or residuals vs. predicted values. The desired outcome is that points are symmetrically distributed around a diagonal line in the former plot or around a horizontal line in the latter one. In both cases with a roughly constant variance.\n",
    "\n",
    "- Observing a ‘bowed’ pattern indicates that the model makes systematic errors whenever it is making unusually large or small predictions. When the model contains many features, nonlinearity can also be revealed by systematic patterns in plots of the residuals vs. individual features."
   ]
  },
  {
   "cell_type": "code",
   "execution_count": 3,
   "id": "46cf47a7",
   "metadata": {},
   "outputs": [],
   "source": [
    "def linearity_test(model, y):\n",
    "    '''\n",
    "    Function for visually inspecting the assumption of linearity in a linear regression model.\n",
    "    It plots observed vs. predicted values and residuals vs. predicted values.\n",
    "    \n",
    "    Args:\n",
    "    * model - fitted OLS model from statsmodels\n",
    "    * y - observed values\n",
    "    '''\n",
    "    fitted_vals = model.predict()\n",
    "    resids = model.resid\n",
    "\n",
    "    fig, ax = plt.subplots(1,2)\n",
    "    \n",
    "    sns.regplot(x=fitted_vals, y=y, lowess=True, ax=ax[0], line_kws={'color': 'red'})\n",
    "    ax[0].set_title('Observed vs. Predicted Values', fontsize=16)\n",
    "    ax[0].set(xlabel='Predicted', ylabel='Observed')\n",
    "\n",
    "    sns.regplot(x=fitted_vals, y=resids, lowess=True, ax=ax[1], line_kws={'color': 'red'})\n",
    "    ax[1].set_title('Residuals vs. Predicted Values', fontsize=16)\n",
    "    ax[1].set(xlabel='Predicted', ylabel='Residuals')"
   ]
  },
  {
   "cell_type": "code",
   "execution_count": 4,
   "id": "9416eb2a",
   "metadata": {},
   "outputs": [
    {
     "data": {
      "image/png": "[encoded data removed]",
      "text/plain": [
       "<Figure size 432x288 with 2 Axes>"
      ]
     },
     "metadata": {
      "needs_background": "light"
     },
     "output_type": "display_data"
    }
   ],
   "source": [
    "linearity_test(myFit, y)"
   ]
  },
  {
   "cell_type": "code",
   "execution_count": 5,
   "id": "a144594b",
   "metadata": {},
   "outputs": [
    {
     "data": {
      "text/plain": [
       "1.076521696573465e-16"
      ]
     },
     "execution_count": 5,
     "metadata": {},
     "output_type": "execute_result"
    }
   ],
   "source": [
    "#expectation of resids is 0 (obviously it is)\n",
    "myFit.resid.mean()"
   ]
  },
  {
   "cell_type": "markdown",
   "id": "4d1ba490",
   "metadata": {},
   "source": [
    "## No Multicollinearity\n",
    "## Variance Inflation Factor (VIF)\n",
    "- The square root of a given variable’s VIF shows how much larger the standard error is, compared with what it would be if that predictor were uncorrelated with the other features in the model. If no features are correlated, then all values for VIF will be 1\n",
    "- To deal with multicollinearity we should iteratively remove features with high values of VIF. A rule of thumb for removal could be VIF larger than 10 (5 is also common). Another possible solution is to use PCA to reduce features to a smaller set of uncorrelated components."
   ]
  },
  {
   "cell_type": "code",
   "execution_count": 6,
   "id": "591d5fb2",
   "metadata": {},
   "outputs": [
    {
     "data": {
      "text/plain": [
       "[1.1275758649643688,\n",
       " 1.1285663381529396,\n",
       " 1.2432593140139987,\n",
       " 1.2122957295944514]"
      ]
     },
     "execution_count": 6,
     "metadata": {},
     "output_type": "execute_result"
    }
   ],
   "source": [
    "from statsmodels.stats.outliers_influence import variance_inflation_factor\n",
    "#we'll need a new model with more covariates\n",
    "data = pd.read_stata('TamingGods.dta')\n",
    "data.columns\n",
    "#lets check if ethnic fractionalization is correlated with religious repression\n",
    "data = data[['Religion', 'Ethnic', 'polity2_', 'conflict', 'relconflict']].dropna()\n",
    "y = data['Religion']\n",
    "X = pd.DataFrame(data[['Ethnic', 'polity2_', 'conflict', 'relconflict']])\n",
    "X['constant'] = 1\n",
    "myFit = sm.OLS(y, X).fit()\n",
    "myFit.summary()\n",
    "vif = [variance_inflation_factor(X.values, i) for i in range(X.shape[1])]\n",
    "vif[:-1] #no issues"
   ]
  },
  {
   "cell_type": "markdown",
   "id": "3de25f5d",
   "metadata": {},
   "source": [
    "## Homoskedasticity\n",
    "- When residuals do not have constant variance (they exhibit heteroscedasticity), it is difficult to determine the true standard deviation of the forecast errors, usually resulting in confidence intervals that are too wide/narrow. For example, if the variance of the residuals is increasing over time, confidence intervals for out-of-sample predictions will be unrealistically narrow. Another effect of heteroscedasticity might also be putting too much weight to a subset of data when estimating coefficients — the subset in which the error variance was largest.\n",
    "\n",
    "- To investigate if the residuals are homoscedastic, we can look at a plot of residuals (or standardized residuals) vs. predicted (fitted) values. What should alarm us is the case when the residuals grow either as a function of predicted value or time (in case of time series).\n",
    "\n",
    "- We can also use two statistical tests: Breusch-Pagan and Goldfeld-Quandt. In both of them, the null hypothesis assumes homoscedasticity and a p-value below a certain level (like 0.05) indicates we should reject the null in favor of heteroscedasticity."
   ]
  },
  {
   "cell_type": "code",
   "execution_count": 7,
   "id": "5bd0f8cf",
   "metadata": {},
   "outputs": [
    {
     "name": "stdout",
     "output_type": "stream",
     "text": [
      "\n",
      " Breusch-Pagan test ----\n",
      "                                      value\n",
      "Lagrange multiplier statistic  1.118894e+02\n",
      "p-value                        2.877208e-23\n",
      "f-value                        2.864911e+01\n",
      "f p-value                      1.515523e-23\n",
      "\n",
      " Goldfeld-Quandt test ----\n",
      "                    value\n",
      "F statistic  1.376585e+00\n",
      "p-value      1.727374e-14\n",
      "\n",
      " Residuals plots ----\n"
     ]
    },
    {
     "data": {
      "image/png": "[encoded data removed]",
      "text/plain": [
       "<Figure size 432x288 with 2 Axes>"
      ]
     },
     "metadata": {
      "needs_background": "light"
     },
     "output_type": "display_data"
    }
   ],
   "source": [
    "#In the snippets below I plot residuals (and standardized ones) vs. fitted values and carry out the two mentioned tests. To identify homoscedasticity in the plots, the placement of the points should be random and no pattern (increase/decrease in values of residuals) should be visible — the red line in the plots should be flat.\n",
    "\n",
    "import statsmodels.stats.api as sms\n",
    "def homoscedasticity_test(model):\n",
    "    '''\n",
    "    Function for testing the homoscedasticity of residuals in a linear regression model.\n",
    "    It plots residuals and standardized residuals vs. fitted values and runs Breusch-Pagan and Goldfeld-Quandt tests.\n",
    "    \n",
    "    Args:\n",
    "    * model - fitted OLS model from statsmodels\n",
    "    '''\n",
    "    fitted_vals = model.predict()\n",
    "    resids = model.resid\n",
    "    resids_standardized = model.get_influence().resid_studentized_internal\n",
    "\n",
    "    fig, ax = plt.subplots(1,2)\n",
    "\n",
    "    sns.regplot(x=fitted_vals, y=resids, lowess=True, ax=ax[0], line_kws={'color': 'red'})\n",
    "    ax[0].set_title('Residuals vs Fitted', fontsize=16)\n",
    "    ax[0].set(xlabel='Fitted Values', ylabel='Residuals')\n",
    "\n",
    "    sns.regplot(x=fitted_vals, y=np.sqrt(np.abs(resids_standardized)), lowess=True, ax=ax[1], line_kws={'color': 'red'})\n",
    "    ax[1].set_title('Scale-Location', fontsize=16)\n",
    "    ax[1].set(xlabel='Fitted Values', ylabel='sqrt(abs(Residuals))')\n",
    "\n",
    "    bp_test = pd.DataFrame(sms.het_breuschpagan(resids, model.model.exog), \n",
    "                           columns=['value'],\n",
    "                           index=['Lagrange multiplier statistic', 'p-value', 'f-value', 'f p-value'])\n",
    "\n",
    "    gq_test = pd.DataFrame(sms.het_goldfeldquandt(resids, model.model.exog)[:-1],\n",
    "                           columns=['value'],\n",
    "                           index=['F statistic', 'p-value'])\n",
    "\n",
    "    print('\\n Breusch-Pagan test ----')\n",
    "    print(bp_test)\n",
    "    print('\\n Goldfeld-Quandt test ----')\n",
    "    print(gq_test)\n",
    "    print('\\n Residuals plots ----')\n",
    "\n",
    "homoscedasticity_test(myFit) #very problematic"
   ]
  },
  {
   "cell_type": "markdown",
   "id": "d14594ba",
   "metadata": {},
   "source": [
    "### Potential solutions:\n",
    "- transformation of the dependent variable\n",
    "- in case of time series, deflating a series if it concerns monetary value\n",
    "- using ARCH (auto-regressive conditional heteroscedasticity) models to model the error variance. An example might be stock market, where data can exhibit periods of increased or decreased volatility over time\n",
    "\n",
    "\n",
    "## No autocorrelation of residuals\n",
    "\n",
    "- This assumption is especially dangerous in time-series models, where serial correlation in the residuals implies that there is room for improvement in the model. Extreme serial correlation is often a sign of a badly misspecified model. Another reason for serial correlation in the residuals could be a violation of the linearity assumption or due to bias that is explainable by omitted variables (interaction terms or dummy variables for identifiable conditions). An example of the former case might be fitting a (straight) line to data, which exhibits exponential growth over time.\n",
    "\n",
    "- This assumption also has meaning in the case of non-time-series models. If residuals always have the same sign under particular conditions, it means that the model systematically underpredicts/overpredicts what happens when the predictors have a particular configuration.\n",
    "\n",
    "- To investigate if autocorrelation is present, I use ACF (autocorrelation function) plots and Durbin-Watson test.\n",
    "\n",
    "- In the former case, we want to see if the value of ACF is significant for any lag (in case of no time-series data, the row number is used). While calling the function, we indicate the significance level (see this article for more details) we are interested in and the critical area is plotted on the graph. Significant correlations lie outside of that area.\n",
    "\n",
    "- Note: when dealing with data without the time dimension, we can alternatively plot the residuals vs. the row number. In such cases, rows should be sorted in a way that (only) depends on the values of the feature(s).\n",
    "\n",
    "- The second approach is using the Durbin-Watson test. I do not go into detail how it is constructed but provide a high-level overview. The test statistic provides a test for significant residual autocorrelation at lag 1. The DW statistic is approximately equal to 2(1-a), where a is the lag 1 residual autocorrelation. The DW test statistic is located in the default summary output of statsmodels’s regression.\n",
    "\n",
    "### Some notes on the Durbin-Watson test:\n",
    "- the test statistic always has a value between 0 and 4\n",
    "- value of 2 means that there is no autocorrelation in the sample\n",
    "- values < 2 indicate positive autocorrelation, values > 2 negative one."
   ]
  },
  {
   "cell_type": "code",
   "execution_count": 8,
   "id": "9de3fddf",
   "metadata": {},
   "outputs": [
    {
     "name": "stderr",
     "output_type": "stream",
     "text": [
      "C:\\Users\\MELIHC~1\\AppData\\Local\\Temp/ipykernel_83928/723930087.py:4: UserWarning: Matplotlib is currently using module://matplotlib_inline.backend_inline, which is a non-GUI backend, so cannot show the figure.\n",
      "  acf.show()\n"
     ]
    },
    {
     "data": {
      "image/png": "[encoded data removed]",
      "text/plain": [
       "<Figure size 432x288 with 1 Axes>"
      ]
     },
     "metadata": {
      "needs_background": "light"
     },
     "output_type": "display_data"
    }
   ],
   "source": [
    "import statsmodels.tsa.api as smt\n",
    "\n",
    "acf = smt.graphics.plot_acf(myFit.resid, lags=40 , alpha=0.05)\n",
    "acf.show()"
   ]
  },
  {
   "cell_type": "markdown",
   "id": "0f964303",
   "metadata": {},
   "source": [
    "### Potential solutions:\n",
    "- in case of minor positive autocorrelation, there might be some room for fine-tuning the model, for example, adding lags of the dependent/independent variables\n",
    "- some seasonal components might not be captured by the model, account for them using dummy variables or seasonally adjust the variables\n",
    "- if DW < 1 it might indicate a possible problem in model specification, consider stationarizing time-series variables by differencing, logging, and/or deflating (in case of monetary values)\n",
    "- in case of significant negative correlation, some of the variables might have been overdifferenced\n",
    "- use Generalized Least Squares\n",
    "- include a linear (trend) term in case of a consistent increasing/decreasing pattern in the residuals\n",
    "\n",
    "\n",
    "### The features and residuals are uncorrelated\n",
    "\n",
    "- To investigate this assumption I check the Pearson correlation coefficient between each feature and the residuals. Then report the p-value for testing the lack of correlation between the two considered series.\n"
   ]
  },
  {
   "cell_type": "code",
   "execution_count": 9,
   "id": "5dce2a78",
   "metadata": {},
   "outputs": [
    {
     "name": "stdout",
     "output_type": "stream",
     "text": [
      "Variable: Ethnic --- correlation: -0.0000, p-value: 1.0000\n",
      "Variable: polity2_ --- correlation: 0.0000, p-value: 1.0000\n",
      "Variable: conflict --- correlation: 0.0000, p-value: 1.0000\n",
      "Variable: relconflict --- correlation: -0.0000, p-value: 1.0000\n"
     ]
    }
   ],
   "source": [
    "from scipy.stats.stats import pearsonr\n",
    "\n",
    "for column in X.columns[:-1]:\n",
    "    corr_test = pearsonr(X[column], myFit.resid)\n",
    "    print(f'Variable: {column} --- correlation: {corr_test[0]:.4f}, p-value: {corr_test[1]:.4f}')\n",
    "#I cannot reject the null hypothesis (lack of correlation) for any pair."
   ]
  },
  {
   "cell_type": "code",
   "execution_count": 10,
   "id": "cc21572b",
   "metadata": {},
   "outputs": [
    {
     "data": {
      "text/plain": [
       "Ethnic          0.066601\n",
       "polity2_       48.881075\n",
       "conflict        0.155307\n",
       "relconflict     0.353416\n",
       "constant        0.000000\n",
       "dtype: float64"
      ]
     },
     "execution_count": 10,
     "metadata": {},
     "output_type": "execute_result"
    }
   ],
   "source": [
    "#variability in X\n",
    "X.apply(np.var, axis=0)"
   ]
  },
  {
   "cell_type": "markdown",
   "id": "769345f6",
   "metadata": {},
   "source": [
    "## Normality of residuals\n",
    "\n",
    "- When this assumption is violated, it causes problems with calculating confidence intervals and various significance tests for coefficients. When the error distribution significantly departs from Gaussian, confidence intervals may be too wide or too narrow.\n",
    "\n",
    "### Some of the potential reasons causing non-normal residuals:\n",
    "\n",
    "- presence of a few large outliers in data\n",
    "- there might be some other problems (violations) with the model assumptions\n",
    "- another, better model specification might be better suited for this problem\n",
    "\n",
    "\n",
    "- Technically, we can omit this assumption if we assume instead that the model equation is correct and our goal is to estimate the coefficients and generate predictions (in the sense of minimizing mean squared error).\n",
    "- However, normally we are interested in making valid inferences from the model or estimating the probability that a given prediction error will exceed some threshold in a particular direction. To do so, the assumption about the normality of residuals must be satisfied.\n",
    "\n",
    "### To investigate this assumption we can look at:\n",
    "\n",
    "- QQ plots of the residuals (a detailed description can be found here). For example, a bow-shaped pattern of deviations from the diagonal implies that the residuals have excessive skewness (i.e., the distribution is not symmetrical, with too many large residuals in one direction). The s-shaped pattern of deviations implies excessive kurtosis of the residuals — there are either too many or two few large errors in both directions.\n",
    "- use statistical tests such as the Kolmogorov-Smirnov test, the Shapiro-Wilk test, the Jarque-Bera test, and the Anderson-Darling test"
   ]
  },
  {
   "cell_type": "code",
   "execution_count": 11,
   "id": "b91ec343",
   "metadata": {},
   "outputs": [],
   "source": [
    "from scipy import stats\n",
    "\n",
    "def normality_of_residuals_test(model):\n",
    "    '''\n",
    "    Function for drawing the normal QQ-plot of the residuals and running 4 statistical tests to \n",
    "    investigate the normality of residuals.\n",
    "    \n",
    "    Arg:\n",
    "    * model - fitted OLS models from statsmodels\n",
    "    '''\n",
    "    sm.ProbPlot(model.resid).qqplot(line='s');\n",
    "    plt.title('Q-Q plot');\n",
    "\n",
    "    jb = stats.jarque_bera(model.resid)\n",
    "    sw = stats.shapiro(model.resid)\n",
    "    ad = stats.anderson(model.resid, dist='norm')\n",
    "    ks = stats.kstest(model.resid, 'norm')\n",
    "    \n",
    "    print(f'Jarque-Bera test ---- statistic: {jb[0]:.4f}, p-value: {jb[1]}')\n",
    "    print(f'Shapiro-Wilk test ---- statistic: {sw[0]:.4f}, p-value: {sw[1]:.4f}')\n",
    "    print(f'Kolmogorov-Smirnov test ---- statistic: {ks.statistic:.4f}, p-value: {ks.pvalue:.4f}')\n",
    "    print(f'Anderson-Darling test ---- statistic: {ad.statistic:.4f}, 5% critical value: {ad.critical_values[2]:.4f}')\n",
    "    print('If the returned AD statistic is larger than the critical value, then for the 5% significance level, the null hypothesis that the data come from the Normal distribution should be rejected. ')"
   ]
  },
  {
   "cell_type": "code",
   "execution_count": 12,
   "id": "cc6fa63a",
   "metadata": {},
   "outputs": [
    {
     "name": "stdout",
     "output_type": "stream",
     "text": [
      "Jarque-Bera test ---- statistic: 207.6489, p-value: 0.0\n",
      "Shapiro-Wilk test ---- statistic: 0.9696, p-value: 0.0000\n",
      "Kolmogorov-Smirnov test ---- statistic: 0.3345, p-value: 0.0000\n",
      "Anderson-Darling test ---- statistic: 43.6970, 5% critical value: 0.7860\n",
      "If the returned AD statistic is larger than the critical value, then for the 5% significance level, the null hypothesis that the data come from the Normal distribution should be rejected. \n"
     ]
    },
    {
     "data": {
      "image/png": "[encoded data removed]",
      "text/plain": [
       "<Figure size 432x288 with 1 Axes>"
      ]
     },
     "metadata": {
      "needs_background": "light"
     },
     "output_type": "display_data"
    }
   ],
   "source": [
    "normality_of_residuals_test(myFit)"
   ]
  },
  {
   "cell_type": "markdown",
   "id": "7ef1bc68",
   "metadata": {},
   "source": [
    "### Potential solutions:\n",
    "\n",
    "- nonlinear transformation of target variable or features\n",
    "- remove/treat potential outliers\n",
    "- it can happen that there are two or more subsets of the data having different statistical properties, in which case separate models might be considered"
   ]
  },
  {
   "cell_type": "code",
   "execution_count": 13,
   "id": "33b75394",
   "metadata": {},
   "outputs": [
    {
     "data": {
      "text/plain": [
       "False"
      ]
     },
     "execution_count": 13,
     "metadata": {},
     "output_type": "execute_result"
    }
   ],
   "source": [
    "#lack of outliers is not an assumption, but outliers may change results, and including/removing/treating needs to be considered in a theoretical fashion\n",
    "outMat = myFit.outlier_test()\n",
    "any(outMat['bonf(p)'] < .05)"
   ]
  },
  {
   "cell_type": "markdown",
   "id": "3214a744",
   "metadata": {},
   "source": [
    "# 7GLMs/glm.py"
   ]
  },
  {
   "cell_type": "code",
   "execution_count": 14,
   "id": "c295293b",
   "metadata": {},
   "outputs": [],
   "source": [
    "import numpy as np, pandas as pd\n",
    "from matplotlib import pyplot as plt\n",
    "import seaborn as sns\n",
    "import scipy.stats as stats\n",
    "import statsmodels.api as sm\n",
    "\n",
    "import os\n",
    "os.chdir('../7GLMs/')"
   ]
  },
  {
   "cell_type": "code",
   "execution_count": 15,
   "id": "2803af46",
   "metadata": {},
   "outputs": [],
   "source": [
    "#!pip install pyreadstat"
   ]
  },
  {
   "cell_type": "code",
   "execution_count": 16,
   "id": "3a2f48d8",
   "metadata": {},
   "outputs": [
    {
     "data": {
      "text/plain": [
       "Index(['ccode', 'country', 'cname', 'cmark', 'year', 'wars', 'war', 'warl',\n",
       "       'onset', 'ethonset', 'durest', 'aim', 'casename', 'ended', 'ethwar',\n",
       "       'waryrs', 'pop', 'lpop', 'polity2', 'gdpen', 'gdptype', 'gdpenl',\n",
       "       'lgdpenl1', 'lpopl1', 'region', 'western', 'eeurop', 'lamerica',\n",
       "       'ssafrica', 'asia', 'nafrme', 'colbrit', 'colfra', 'mtnest', 'lmtnest',\n",
       "       'elevdiff', 'Oil', 'ncontig', 'ethfrac', 'ef', 'plural', 'second',\n",
       "       'numlang', 'relfrac', 'plurrel', 'minrelpc', 'muslim', 'nwstate',\n",
       "       'polity2l', 'instab', 'anocl', 'deml', 'empethfrac', 'empwarl',\n",
       "       'emponset', 'empgdpenl', 'emplpopl', 'emplmtnest', 'empncontig',\n",
       "       'empolity2l', 'sdwars', 'sdonset', 'colwars', 'colonset', 'cowwars',\n",
       "       'cowonset', 'cowwarl', 'sdwarl', 'colwarl'],\n",
       "      dtype='object')"
      ]
     },
     "execution_count": 16,
     "metadata": {},
     "output_type": "execute_result"
    }
   ],
   "source": [
    "#below will error, because of the version of stata (you may run into this)\n",
    "#data = pd.read_stata('repdata.dta')\n",
    "import pyreadstat\n",
    "data, meta = pyreadstat.read_dta('repdata.dta')\n",
    "data.columns"
   ]
  },
  {
   "cell_type": "markdown",
   "id": "ca0924f7",
   "metadata": {},
   "source": [
    "## Binary Outcome\n",
    "\n",
    "- lets predict war as a function of Oil\n",
    "- controls: \"empgdpenl\"  \"emplpopl\" \"empolity2l\" (notice the lags)"
   ]
  },
  {
   "cell_type": "code",
   "execution_count": 17,
   "id": "a8e8937a",
   "metadata": {},
   "outputs": [],
   "source": [
    "data['constant'] = 1"
   ]
  },
  {
   "cell_type": "markdown",
   "id": "6d36323c",
   "metadata": {},
   "source": [
    "### Logit (most common)"
   ]
  },
  {
   "cell_type": "code",
   "execution_count": 18,
   "id": "12f6547b",
   "metadata": {},
   "outputs": [
    {
     "name": "stdout",
     "output_type": "stream",
     "text": [
      "Optimization terminated successfully.\n",
      "         Current function value: 0.337281\n",
      "         Iterations 8\n"
     ]
    },
    {
     "data": {
      "text/html": [
       "<table class=\"simpletable\">\n",
       "<caption>Logit Regression Results</caption>\n",
       "<tr>\n",
       "  <th>Dep. Variable:</th>          <td>war</td>       <th>  No. Observations:  </th>   <td>  6192</td>  \n",
       "</tr>\n",
       "<tr>\n",
       "  <th>Model:</th>                 <td>Logit</td>      <th>  Df Residuals:      </th>   <td>  6187</td>  \n",
       "</tr>\n",
       "<tr>\n",
       "  <th>Method:</th>                 <td>MLE</td>       <th>  Df Model:          </th>   <td>     4</td>  \n",
       "</tr>\n",
       "<tr>\n",
       "  <th>Date:</th>            <td>Tue, 30 Nov 2021</td> <th>  Pseudo R-squ.:     </th>   <td>0.1593</td>  \n",
       "</tr>\n",
       "<tr>\n",
       "  <th>Time:</th>                <td>15:19:56</td>     <th>  Log-Likelihood:    </th>  <td> -2088.4</td> \n",
       "</tr>\n",
       "<tr>\n",
       "  <th>converged:</th>             <td>True</td>       <th>  LL-Null:           </th>  <td> -2484.0</td> \n",
       "</tr>\n",
       "<tr>\n",
       "  <th>Covariance Type:</th>     <td>nonrobust</td>    <th>  LLR p-value:       </th> <td>6.198e-170</td>\n",
       "</tr>\n",
       "</table>\n",
       "<table class=\"simpletable\">\n",
       "<tr>\n",
       "       <td></td>         <th>coef</th>     <th>std err</th>      <th>z</th>      <th>P>|z|</th>  <th>[0.025</th>    <th>0.975]</th>  \n",
       "</tr>\n",
       "<tr>\n",
       "  <th>constant</th>   <td>   -5.9364</td> <td>    0.268</td> <td>  -22.130</td> <td> 0.000</td> <td>   -6.462</td> <td>   -5.411</td>\n",
       "</tr>\n",
       "<tr>\n",
       "  <th>Oil</th>        <td>    0.4827</td> <td>    0.125</td> <td>    3.858</td> <td> 0.000</td> <td>    0.238</td> <td>    0.728</td>\n",
       "</tr>\n",
       "<tr>\n",
       "  <th>empgdpenl</th>  <td>   -0.3620</td> <td>    0.023</td> <td>  -15.570</td> <td> 0.000</td> <td>   -0.408</td> <td>   -0.316</td>\n",
       "</tr>\n",
       "<tr>\n",
       "  <th>emplpopl</th>   <td>    0.5323</td> <td>    0.028</td> <td>   19.264</td> <td> 0.000</td> <td>    0.478</td> <td>    0.587</td>\n",
       "</tr>\n",
       "<tr>\n",
       "  <th>empolity2l</th> <td>    0.0594</td> <td>    0.006</td> <td>    9.260</td> <td> 0.000</td> <td>    0.047</td> <td>    0.072</td>\n",
       "</tr>\n",
       "</table>"
      ],
      "text/plain": [
       "<class 'statsmodels.iolib.summary.Summary'>\n",
       "\"\"\"\n",
       "                           Logit Regression Results                           \n",
       "==============================================================================\n",
       "Dep. Variable:                    war   No. Observations:                 6192\n",
       "Model:                          Logit   Df Residuals:                     6187\n",
       "Method:                           MLE   Df Model:                            4\n",
       "Date:                Tue, 30 Nov 2021   Pseudo R-squ.:                  0.1593\n",
       "Time:                        15:19:56   Log-Likelihood:                -2088.4\n",
       "converged:                       True   LL-Null:                       -2484.0\n",
       "Covariance Type:            nonrobust   LLR p-value:                6.198e-170\n",
       "==============================================================================\n",
       "                 coef    std err          z      P>|z|      [0.025      0.975]\n",
       "------------------------------------------------------------------------------\n",
       "constant      -5.9364      0.268    -22.130      0.000      -6.462      -5.411\n",
       "Oil            0.4827      0.125      3.858      0.000       0.238       0.728\n",
       "empgdpenl     -0.3620      0.023    -15.570      0.000      -0.408      -0.316\n",
       "emplpopl       0.5323      0.028     19.264      0.000       0.478       0.587\n",
       "empolity2l     0.0594      0.006      9.260      0.000       0.047       0.072\n",
       "==============================================================================\n",
       "\"\"\""
      ]
     },
     "execution_count": 18,
     "metadata": {},
     "output_type": "execute_result"
    }
   ],
   "source": [
    "modLogit = sm.Logit(data.war, data[['constant', 'Oil', \"empgdpenl\", \"emplpopl\", \"empolity2l\"]], missing = 'drop').fit()\n",
    "modLogit.summary()"
   ]
  },
  {
   "cell_type": "markdown",
   "id": "49acc1b3",
   "metadata": {},
   "source": [
    "### Probit"
   ]
  },
  {
   "cell_type": "code",
   "execution_count": 19,
   "id": "751918a4",
   "metadata": {},
   "outputs": [
    {
     "name": "stdout",
     "output_type": "stream",
     "text": [
      "Optimization terminated successfully.\n",
      "         Current function value: 0.336854\n",
      "         Iterations 7\n"
     ]
    },
    {
     "data": {
      "text/html": [
       "<table class=\"simpletable\">\n",
       "<caption>Probit Regression Results</caption>\n",
       "<tr>\n",
       "  <th>Dep. Variable:</th>          <td>war</td>       <th>  No. Observations:  </th>   <td>  6192</td>  \n",
       "</tr>\n",
       "<tr>\n",
       "  <th>Model:</th>                <td>Probit</td>      <th>  Df Residuals:      </th>   <td>  6187</td>  \n",
       "</tr>\n",
       "<tr>\n",
       "  <th>Method:</th>                 <td>MLE</td>       <th>  Df Model:          </th>   <td>     4</td>  \n",
       "</tr>\n",
       "<tr>\n",
       "  <th>Date:</th>            <td>Tue, 30 Nov 2021</td> <th>  Pseudo R-squ.:     </th>   <td>0.1603</td>  \n",
       "</tr>\n",
       "<tr>\n",
       "  <th>Time:</th>                <td>15:19:56</td>     <th>  Log-Likelihood:    </th>  <td> -2085.8</td> \n",
       "</tr>\n",
       "<tr>\n",
       "  <th>converged:</th>             <td>True</td>       <th>  LL-Null:           </th>  <td> -2484.0</td> \n",
       "</tr>\n",
       "<tr>\n",
       "  <th>Covariance Type:</th>     <td>nonrobust</td>    <th>  LLR p-value:       </th> <td>4.435e-171</td>\n",
       "</tr>\n",
       "</table>\n",
       "<table class=\"simpletable\">\n",
       "<tr>\n",
       "       <td></td>         <th>coef</th>     <th>std err</th>      <th>z</th>      <th>P>|z|</th>  <th>[0.025</th>    <th>0.975]</th>  \n",
       "</tr>\n",
       "<tr>\n",
       "  <th>constant</th>   <td>   -3.5261</td> <td>    0.147</td> <td>  -23.954</td> <td> 0.000</td> <td>   -3.815</td> <td>   -3.238</td>\n",
       "</tr>\n",
       "<tr>\n",
       "  <th>Oil</th>        <td>    0.2546</td> <td>    0.069</td> <td>    3.672</td> <td> 0.000</td> <td>    0.119</td> <td>    0.390</td>\n",
       "</tr>\n",
       "<tr>\n",
       "  <th>empgdpenl</th>  <td>   -0.1828</td> <td>    0.011</td> <td>  -16.820</td> <td> 0.000</td> <td>   -0.204</td> <td>   -0.161</td>\n",
       "</tr>\n",
       "<tr>\n",
       "  <th>emplpopl</th>   <td>    0.3108</td> <td>    0.015</td> <td>   20.085</td> <td> 0.000</td> <td>    0.280</td> <td>    0.341</td>\n",
       "</tr>\n",
       "<tr>\n",
       "  <th>empolity2l</th> <td>    0.0325</td> <td>    0.004</td> <td>    9.044</td> <td> 0.000</td> <td>    0.025</td> <td>    0.039</td>\n",
       "</tr>\n",
       "</table>"
      ],
      "text/plain": [
       "<class 'statsmodels.iolib.summary.Summary'>\n",
       "\"\"\"\n",
       "                          Probit Regression Results                           \n",
       "==============================================================================\n",
       "Dep. Variable:                    war   No. Observations:                 6192\n",
       "Model:                         Probit   Df Residuals:                     6187\n",
       "Method:                           MLE   Df Model:                            4\n",
       "Date:                Tue, 30 Nov 2021   Pseudo R-squ.:                  0.1603\n",
       "Time:                        15:19:56   Log-Likelihood:                -2085.8\n",
       "converged:                       True   LL-Null:                       -2484.0\n",
       "Covariance Type:            nonrobust   LLR p-value:                4.435e-171\n",
       "==============================================================================\n",
       "                 coef    std err          z      P>|z|      [0.025      0.975]\n",
       "------------------------------------------------------------------------------\n",
       "constant      -3.5261      0.147    -23.954      0.000      -3.815      -3.238\n",
       "Oil            0.2546      0.069      3.672      0.000       0.119       0.390\n",
       "empgdpenl     -0.1828      0.011    -16.820      0.000      -0.204      -0.161\n",
       "emplpopl       0.3108      0.015     20.085      0.000       0.280       0.341\n",
       "empolity2l     0.0325      0.004      9.044      0.000       0.025       0.039\n",
       "==============================================================================\n",
       "\"\"\""
      ]
     },
     "execution_count": 19,
     "metadata": {},
     "output_type": "execute_result"
    }
   ],
   "source": [
    "modProbit = sm.Probit(data.war, data[['constant', 'Oil', \"empgdpenl\", \"emplpopl\", \"empolity2l\"]], missing = 'drop').fit()\n",
    "modProbit.summary() #notice the different scales"
   ]
  },
  {
   "cell_type": "markdown",
   "id": "82180b36",
   "metadata": {},
   "source": [
    "### c-log-log (very uncommon)"
   ]
  },
  {
   "cell_type": "code",
   "execution_count": 20,
   "id": "332b5f5f",
   "metadata": {},
   "outputs": [
    {
     "data": {
      "text/html": [
       "<table class=\"simpletable\">\n",
       "<caption>Generalized Linear Model Regression Results</caption>\n",
       "<tr>\n",
       "  <th>Dep. Variable:</th>          <td>war</td>       <th>  No. Observations:  </th>  <td>  6192</td> \n",
       "</tr>\n",
       "<tr>\n",
       "  <th>Model:</th>                  <td>GLM</td>       <th>  Df Residuals:      </th>  <td>  6187</td> \n",
       "</tr>\n",
       "<tr>\n",
       "  <th>Model Family:</th>        <td>Binomial</td>     <th>  Df Model:          </th>  <td>     4</td> \n",
       "</tr>\n",
       "<tr>\n",
       "  <th>Link Function:</th>        <td>cloglog</td>     <th>  Scale:             </th> <td>  1.0000</td>\n",
       "</tr>\n",
       "<tr>\n",
       "  <th>Method:</th>                <td>IRLS</td>       <th>  Log-Likelihood:    </th> <td> -2092.4</td>\n",
       "</tr>\n",
       "<tr>\n",
       "  <th>Date:</th>            <td>Tue, 30 Nov 2021</td> <th>  Deviance:          </th> <td>  4184.8</td>\n",
       "</tr>\n",
       "<tr>\n",
       "  <th>Time:</th>                <td>15:19:56</td>     <th>  Pearson chi2:      </th> <td>5.92e+03</td>\n",
       "</tr>\n",
       "<tr>\n",
       "  <th>No. Iterations:</th>          <td>7</td>        <th>  Pseudo R-squ. (CS):</th>  <td>0.1188</td> \n",
       "</tr>\n",
       "<tr>\n",
       "  <th>Covariance Type:</th>     <td>nonrobust</td>    <th>                     </th>     <td> </td>   \n",
       "</tr>\n",
       "</table>\n",
       "<table class=\"simpletable\">\n",
       "<tr>\n",
       "       <td></td>         <th>coef</th>     <th>std err</th>      <th>z</th>      <th>P>|z|</th>  <th>[0.025</th>    <th>0.975]</th>  \n",
       "</tr>\n",
       "<tr>\n",
       "  <th>constant</th>   <td>   -5.2195</td> <td>    0.219</td> <td>  -23.884</td> <td> 0.000</td> <td>   -5.648</td> <td>   -4.791</td>\n",
       "</tr>\n",
       "<tr>\n",
       "  <th>Oil</th>        <td>    0.4247</td> <td>    0.106</td> <td>    3.991</td> <td> 0.000</td> <td>    0.216</td> <td>    0.633</td>\n",
       "</tr>\n",
       "<tr>\n",
       "  <th>empgdpenl</th>  <td>   -0.3239</td> <td>    0.021</td> <td>  -15.596</td> <td> 0.000</td> <td>   -0.365</td> <td>   -0.283</td>\n",
       "</tr>\n",
       "<tr>\n",
       "  <th>emplpopl</th>   <td>    0.4351</td> <td>    0.021</td> <td>   20.330</td> <td> 0.000</td> <td>    0.393</td> <td>    0.477</td>\n",
       "</tr>\n",
       "<tr>\n",
       "  <th>empolity2l</th> <td>    0.0529</td> <td>    0.005</td> <td>    9.731</td> <td> 0.000</td> <td>    0.042</td> <td>    0.064</td>\n",
       "</tr>\n",
       "</table>"
      ],
      "text/plain": [
       "<class 'statsmodels.iolib.summary.Summary'>\n",
       "\"\"\"\n",
       "                 Generalized Linear Model Regression Results                  \n",
       "==============================================================================\n",
       "Dep. Variable:                    war   No. Observations:                 6192\n",
       "Model:                            GLM   Df Residuals:                     6187\n",
       "Model Family:                Binomial   Df Model:                            4\n",
       "Link Function:                cloglog   Scale:                          1.0000\n",
       "Method:                          IRLS   Log-Likelihood:                -2092.4\n",
       "Date:                Tue, 30 Nov 2021   Deviance:                       4184.8\n",
       "Time:                        15:19:56   Pearson chi2:                 5.92e+03\n",
       "No. Iterations:                     7   Pseudo R-squ. (CS):             0.1188\n",
       "Covariance Type:            nonrobust                                         \n",
       "==============================================================================\n",
       "                 coef    std err          z      P>|z|      [0.025      0.975]\n",
       "------------------------------------------------------------------------------\n",
       "constant      -5.2195      0.219    -23.884      0.000      -5.648      -4.791\n",
       "Oil            0.4247      0.106      3.991      0.000       0.216       0.633\n",
       "empgdpenl     -0.3239      0.021    -15.596      0.000      -0.365      -0.283\n",
       "emplpopl       0.4351      0.021     20.330      0.000       0.393       0.477\n",
       "empolity2l     0.0529      0.005      9.731      0.000       0.042       0.064\n",
       "==============================================================================\n",
       "\"\"\""
      ]
     },
     "execution_count": 20,
     "metadata": {},
     "output_type": "execute_result"
    }
   ],
   "source": [
    "cloglog = sm.families.links.cloglog()\n",
    "modCLL = sm.GLM(data.war, data[['constant', 'Oil', \"empgdpenl\", \"emplpopl\", \"empolity2l\"]], missing = 'drop', family = sm.families.Binomial(cloglog)).fit()\n",
    "modCLL.summary()"
   ]
  },
  {
   "cell_type": "markdown",
   "id": "641fc96c",
   "metadata": {},
   "source": [
    "## Counts\n",
    "\n",
    "- lets predict number of wars as a function of democracy"
   ]
  },
  {
   "cell_type": "markdown",
   "id": "bb66518b",
   "metadata": {},
   "source": [
    "### Poisson"
   ]
  },
  {
   "cell_type": "code",
   "execution_count": 21,
   "id": "7ea60749",
   "metadata": {},
   "outputs": [
    {
     "name": "stdout",
     "output_type": "stream",
     "text": [
      "Optimization terminated successfully.\n",
      "         Current function value: 0.383406\n",
      "         Iterations 7\n"
     ]
    },
    {
     "data": {
      "text/html": [
       "<table class=\"simpletable\">\n",
       "<caption>Poisson Regression Results</caption>\n",
       "<tr>\n",
       "  <th>Dep. Variable:</th>         <td>wars</td>       <th>  No. Observations:  </th>   <td>  6192</td>  \n",
       "</tr>\n",
       "<tr>\n",
       "  <th>Model:</th>                <td>Poisson</td>     <th>  Df Residuals:      </th>   <td>  6186</td>  \n",
       "</tr>\n",
       "<tr>\n",
       "  <th>Method:</th>                 <td>MLE</td>       <th>  Df Model:          </th>   <td>     5</td>  \n",
       "</tr>\n",
       "<tr>\n",
       "  <th>Date:</th>            <td>Tue, 30 Nov 2021</td> <th>  Pseudo R-squ.:     </th>   <td>0.1599</td>  \n",
       "</tr>\n",
       "<tr>\n",
       "  <th>Time:</th>                <td>15:19:56</td>     <th>  Log-Likelihood:    </th>  <td> -2374.1</td> \n",
       "</tr>\n",
       "<tr>\n",
       "  <th>converged:</th>             <td>True</td>       <th>  LL-Null:           </th>  <td> -2825.7</td> \n",
       "</tr>\n",
       "<tr>\n",
       "  <th>Covariance Type:</th>     <td>nonrobust</td>    <th>  LLR p-value:       </th> <td>4.909e-193</td>\n",
       "</tr>\n",
       "</table>\n",
       "<table class=\"simpletable\">\n",
       "<tr>\n",
       "       <td></td>         <th>coef</th>     <th>std err</th>      <th>z</th>      <th>P>|z|</th>  <th>[0.025</th>    <th>0.975]</th>  \n",
       "</tr>\n",
       "<tr>\n",
       "  <th>constant</th>   <td>   -5.4802</td> <td>    0.211</td> <td>  -25.935</td> <td> 0.000</td> <td>   -5.894</td> <td>   -5.066</td>\n",
       "</tr>\n",
       "<tr>\n",
       "  <th>empolity2l</th> <td>    0.0253</td> <td>    0.005</td> <td>    5.080</td> <td> 0.000</td> <td>    0.016</td> <td>    0.035</td>\n",
       "</tr>\n",
       "<tr>\n",
       "  <th>empgdpenl</th>  <td>   -0.2182</td> <td>    0.019</td> <td>  -11.553</td> <td> 0.000</td> <td>   -0.255</td> <td>   -0.181</td>\n",
       "</tr>\n",
       "<tr>\n",
       "  <th>emplpopl</th>   <td>    0.4054</td> <td>    0.019</td> <td>   21.389</td> <td> 0.000</td> <td>    0.368</td> <td>    0.443</td>\n",
       "</tr>\n",
       "<tr>\n",
       "  <th>ethfrac</th>    <td>    0.9906</td> <td>    0.120</td> <td>    8.232</td> <td> 0.000</td> <td>    0.755</td> <td>    1.226</td>\n",
       "</tr>\n",
       "<tr>\n",
       "  <th>relfrac</th>    <td>   -0.4396</td> <td>    0.170</td> <td>   -2.585</td> <td> 0.010</td> <td>   -0.773</td> <td>   -0.106</td>\n",
       "</tr>\n",
       "</table>"
      ],
      "text/plain": [
       "<class 'statsmodels.iolib.summary.Summary'>\n",
       "\"\"\"\n",
       "                          Poisson Regression Results                          \n",
       "==============================================================================\n",
       "Dep. Variable:                   wars   No. Observations:                 6192\n",
       "Model:                        Poisson   Df Residuals:                     6186\n",
       "Method:                           MLE   Df Model:                            5\n",
       "Date:                Tue, 30 Nov 2021   Pseudo R-squ.:                  0.1599\n",
       "Time:                        15:19:56   Log-Likelihood:                -2374.1\n",
       "converged:                       True   LL-Null:                       -2825.7\n",
       "Covariance Type:            nonrobust   LLR p-value:                4.909e-193\n",
       "==============================================================================\n",
       "                 coef    std err          z      P>|z|      [0.025      0.975]\n",
       "------------------------------------------------------------------------------\n",
       "constant      -5.4802      0.211    -25.935      0.000      -5.894      -5.066\n",
       "empolity2l     0.0253      0.005      5.080      0.000       0.016       0.035\n",
       "empgdpenl     -0.2182      0.019    -11.553      0.000      -0.255      -0.181\n",
       "emplpopl       0.4054      0.019     21.389      0.000       0.368       0.443\n",
       "ethfrac        0.9906      0.120      8.232      0.000       0.755       1.226\n",
       "relfrac       -0.4396      0.170     -2.585      0.010      -0.773      -0.106\n",
       "==============================================================================\n",
       "\"\"\""
      ]
     },
     "execution_count": 21,
     "metadata": {},
     "output_type": "execute_result"
    }
   ],
   "source": [
    "modPois = sm.Poisson(data.wars, data[['constant', 'empolity2l', 'empgdpenl', 'emplpopl', 'ethfrac', 'relfrac']], missing = 'drop').fit()\n",
    "modPois.summary()"
   ]
  },
  {
   "cell_type": "markdown",
   "id": "4a228bb1",
   "metadata": {},
   "source": [
    "### Negative Binomial (for overdispersed)"
   ]
  },
  {
   "cell_type": "code",
   "execution_count": 22,
   "id": "a90342bd",
   "metadata": {},
   "outputs": [
    {
     "name": "stdout",
     "output_type": "stream",
     "text": [
      "Warning: Maximum number of iterations has been exceeded.\n",
      "         Current function value: 0.383423\n",
      "         Iterations: 35\n",
      "         Function evaluations: 39\n",
      "         Gradient evaluations: 39\n",
      "Warning: Desired error not necessarily achieved due to precision loss.\n",
      "         Current function value: 0.383405\n",
      "         Iterations: 46\n",
      "         Function evaluations: 125\n",
      "         Gradient evaluations: 113\n"
     ]
    },
    {
     "name": "stderr",
     "output_type": "stream",
     "text": [
      "C:\\Users\\melihcanyardi\\anaconda3\\lib\\site-packages\\statsmodels\\base\\model.py:604: ConvergenceWarning: Maximum Likelihood optimization failed to converge. Check mle_retvals\n",
      "  warnings.warn(\"Maximum Likelihood optimization failed to \"\n",
      "C:\\Users\\melihcanyardi\\anaconda3\\lib\\site-packages\\statsmodels\\discrete\\discrete_model.py:2651: RuntimeWarning: divide by zero encountered in log\n",
      "  llf = coeff + size*np.log(prob) + endog*np.log(1-prob)\n",
      "C:\\Users\\melihcanyardi\\anaconda3\\lib\\site-packages\\statsmodels\\discrete\\discrete_model.py:2651: RuntimeWarning: invalid value encountered in multiply\n",
      "  llf = coeff + size*np.log(prob) + endog*np.log(1-prob)\n",
      "C:\\Users\\melihcanyardi\\anaconda3\\lib\\site-packages\\statsmodels\\base\\model.py:592: HessianInversionWarning: Inverting hessian failed, no bse or cov_params available\n",
      "  warnings.warn('Inverting hessian failed, no bse or cov_params '\n",
      "C:\\Users\\melihcanyardi\\anaconda3\\lib\\site-packages\\statsmodels\\base\\model.py:604: ConvergenceWarning: Maximum Likelihood optimization failed to converge. Check mle_retvals\n",
      "  warnings.warn(\"Maximum Likelihood optimization failed to \"\n"
     ]
    }
   ],
   "source": [
    "modNB = sm.NegativeBinomial(data.wars, data[['constant', 'empolity2l', 'empgdpenl', 'emplpopl', 'ethfrac', 'relfrac']], missing = 'drop').fit() #notice the warning\n",
    "modNB = sm.NegativeBinomial(data.wars, data[['constant', 'empolity2l', 'empgdpenl', 'emplpopl', 'ethfrac', 'relfrac']], missing = 'drop').fit(maxiter = 1000) #still - cannot trust results from NB in this example"
   ]
  },
  {
   "cell_type": "markdown",
   "id": "d9a7f66d",
   "metadata": {},
   "source": [
    "## Multiple Categories\n",
    "\n",
    "- lets predict region by ethnic frac"
   ]
  },
  {
   "cell_type": "markdown",
   "id": "0e435d63",
   "metadata": {},
   "source": [
    "### Logistic Multinomial"
   ]
  },
  {
   "cell_type": "code",
   "execution_count": 23,
   "id": "fd91e6b0",
   "metadata": {},
   "outputs": [
    {
     "name": "stdout",
     "output_type": "stream",
     "text": [
      "Optimization terminated successfully.\n",
      "         Current function value: 1.481805\n",
      "         Iterations 6\n"
     ]
    },
    {
     "data": {
      "text/html": [
       "<table class=\"simpletable\">\n",
       "<caption>MNLogit Regression Results</caption>\n",
       "<tr>\n",
       "  <th>Dep. Variable:</th>        <td>region</td>      <th>  No. Observations:  </th>  <td>  6383</td> \n",
       "</tr>\n",
       "<tr>\n",
       "  <th>Model:</th>                <td>MNLogit</td>     <th>  Df Residuals:      </th>  <td>  6368</td> \n",
       "</tr>\n",
       "<tr>\n",
       "  <th>Method:</th>                 <td>MLE</td>       <th>  Df Model:          </th>  <td>    10</td> \n",
       "</tr>\n",
       "<tr>\n",
       "  <th>Date:</th>            <td>Tue, 30 Nov 2021</td> <th>  Pseudo R-squ.:     </th>  <td>0.1540</td> \n",
       "</tr>\n",
       "<tr>\n",
       "  <th>Time:</th>                <td>15:19:57</td>     <th>  Log-Likelihood:    </th> <td> -9458.4</td>\n",
       "</tr>\n",
       "<tr>\n",
       "  <th>converged:</th>             <td>True</td>       <th>  LL-Null:           </th> <td> -11181.</td>\n",
       "</tr>\n",
       "<tr>\n",
       "  <th>Covariance Type:</th>     <td>nonrobust</td>    <th>  LLR p-value:       </th>  <td> 0.000</td> \n",
       "</tr>\n",
       "</table>\n",
       "<table class=\"simpletable\">\n",
       "<tr>\n",
       "  <th>region=2</th>    <th>coef</th>     <th>std err</th>      <th>z</th>      <th>P>|z|</th>  <th>[0.025</th>    <th>0.975]</th>  \n",
       "</tr>\n",
       "<tr>\n",
       "  <th>constant</th> <td>   -2.0496</td> <td>    0.102</td> <td>  -20.022</td> <td> 0.000</td> <td>   -2.250</td> <td>   -1.849</td>\n",
       "</tr>\n",
       "<tr>\n",
       "  <th>ethfrac</th>  <td>    2.3324</td> <td>    0.225</td> <td>   10.386</td> <td> 0.000</td> <td>    1.892</td> <td>    2.773</td>\n",
       "</tr>\n",
       "<tr>\n",
       "  <th>gdptype</th>  <td>    0.6972</td> <td>    0.039</td> <td>   17.970</td> <td> 0.000</td> <td>    0.621</td> <td>    0.773</td>\n",
       "</tr>\n",
       "<tr>\n",
       "  <th>region=3</th>    <th>coef</th>     <th>std err</th>      <th>z</th>      <th>P>|z|</th>  <th>[0.025</th>    <th>0.975]</th>  \n",
       "</tr>\n",
       "<tr>\n",
       "  <th>constant</th> <td>   -2.2214</td> <td>    0.096</td> <td>  -23.203</td> <td> 0.000</td> <td>   -2.409</td> <td>   -2.034</td>\n",
       "</tr>\n",
       "<tr>\n",
       "  <th>ethfrac</th>  <td>    4.4612</td> <td>    0.197</td> <td>   22.622</td> <td> 0.000</td> <td>    4.075</td> <td>    4.848</td>\n",
       "</tr>\n",
       "<tr>\n",
       "  <th>gdptype</th>  <td>    0.6273</td> <td>    0.036</td> <td>   17.195</td> <td> 0.000</td> <td>    0.556</td> <td>    0.699</td>\n",
       "</tr>\n",
       "<tr>\n",
       "  <th>region=5</th>    <th>coef</th>     <th>std err</th>      <th>z</th>      <th>P>|z|</th>  <th>[0.025</th>    <th>0.975]</th>  \n",
       "</tr>\n",
       "<tr>\n",
       "  <th>constant</th> <td>   -0.8391</td> <td>    0.077</td> <td>  -10.915</td> <td> 0.000</td> <td>   -0.990</td> <td>   -0.688</td>\n",
       "</tr>\n",
       "<tr>\n",
       "  <th>ethfrac</th>  <td>    0.6271</td> <td>    0.211</td> <td>    2.968</td> <td> 0.003</td> <td>    0.213</td> <td>    1.041</td>\n",
       "</tr>\n",
       "<tr>\n",
       "  <th>gdptype</th>  <td>    0.4666</td> <td>    0.036</td> <td>   13.117</td> <td> 0.000</td> <td>    0.397</td> <td>    0.536</td>\n",
       "</tr>\n",
       "<tr>\n",
       "  <th>region=6</th>    <th>coef</th>     <th>std err</th>      <th>z</th>      <th>P>|z|</th>  <th>[0.025</th>    <th>0.975]</th>  \n",
       "</tr>\n",
       "<tr>\n",
       "  <th>constant</th> <td>   -2.9665</td> <td>    0.111</td> <td>  -26.739</td> <td> 0.000</td> <td>   -3.184</td> <td>   -2.749</td>\n",
       "</tr>\n",
       "<tr>\n",
       "  <th>ethfrac</th>  <td>    7.2459</td> <td>    0.212</td> <td>   34.107</td> <td> 0.000</td> <td>    6.830</td> <td>    7.662</td>\n",
       "</tr>\n",
       "<tr>\n",
       "  <th>gdptype</th>  <td>    0.1028</td> <td>    0.042</td> <td>    2.423</td> <td> 0.015</td> <td>    0.020</td> <td>    0.186</td>\n",
       "</tr>\n",
       "<tr>\n",
       "  <th>region=7</th>    <th>coef</th>     <th>std err</th>      <th>z</th>      <th>P>|z|</th>  <th>[0.025</th>    <th>0.975]</th>  \n",
       "</tr>\n",
       "<tr>\n",
       "  <th>constant</th> <td>   -0.1748</td> <td>    0.066</td> <td>   -2.667</td> <td> 0.008</td> <td>   -0.303</td> <td>   -0.046</td>\n",
       "</tr>\n",
       "<tr>\n",
       "  <th>ethfrac</th>  <td>    0.5914</td> <td>    0.190</td> <td>    3.116</td> <td> 0.002</td> <td>    0.219</td> <td>    0.963</td>\n",
       "</tr>\n",
       "<tr>\n",
       "  <th>gdptype</th>  <td>    0.1288</td> <td>    0.036</td> <td>    3.541</td> <td> 0.000</td> <td>    0.058</td> <td>    0.200</td>\n",
       "</tr>\n",
       "</table>"
      ],
      "text/plain": [
       "<class 'statsmodels.iolib.summary.Summary'>\n",
       "\"\"\"\n",
       "                          MNLogit Regression Results                          \n",
       "==============================================================================\n",
       "Dep. Variable:                 region   No. Observations:                 6383\n",
       "Model:                        MNLogit   Df Residuals:                     6368\n",
       "Method:                           MLE   Df Model:                           10\n",
       "Date:                Tue, 30 Nov 2021   Pseudo R-squ.:                  0.1540\n",
       "Time:                        15:19:57   Log-Likelihood:                -9458.4\n",
       "converged:                       True   LL-Null:                       -11181.\n",
       "Covariance Type:            nonrobust   LLR p-value:                     0.000\n",
       "==============================================================================\n",
       "  region=2       coef    std err          z      P>|z|      [0.025      0.975]\n",
       "------------------------------------------------------------------------------\n",
       "constant      -2.0496      0.102    -20.022      0.000      -2.250      -1.849\n",
       "ethfrac        2.3324      0.225     10.386      0.000       1.892       2.773\n",
       "gdptype        0.6972      0.039     17.970      0.000       0.621       0.773\n",
       "------------------------------------------------------------------------------\n",
       "  region=3       coef    std err          z      P>|z|      [0.025      0.975]\n",
       "------------------------------------------------------------------------------\n",
       "constant      -2.2214      0.096    -23.203      0.000      -2.409      -2.034\n",
       "ethfrac        4.4612      0.197     22.622      0.000       4.075       4.848\n",
       "gdptype        0.6273      0.036     17.195      0.000       0.556       0.699\n",
       "------------------------------------------------------------------------------\n",
       "  region=5       coef    std err          z      P>|z|      [0.025      0.975]\n",
       "------------------------------------------------------------------------------\n",
       "constant      -0.8391      0.077    -10.915      0.000      -0.990      -0.688\n",
       "ethfrac        0.6271      0.211      2.968      0.003       0.213       1.041\n",
       "gdptype        0.4666      0.036     13.117      0.000       0.397       0.536\n",
       "------------------------------------------------------------------------------\n",
       "  region=6       coef    std err          z      P>|z|      [0.025      0.975]\n",
       "------------------------------------------------------------------------------\n",
       "constant      -2.9665      0.111    -26.739      0.000      -3.184      -2.749\n",
       "ethfrac        7.2459      0.212     34.107      0.000       6.830       7.662\n",
       "gdptype        0.1028      0.042      2.423      0.015       0.020       0.186\n",
       "------------------------------------------------------------------------------\n",
       "  region=7       coef    std err          z      P>|z|      [0.025      0.975]\n",
       "------------------------------------------------------------------------------\n",
       "constant      -0.1748      0.066     -2.667      0.008      -0.303      -0.046\n",
       "ethfrac        0.5914      0.190      3.116      0.002       0.219       0.963\n",
       "gdptype        0.1288      0.036      3.541      0.000       0.058       0.200\n",
       "==============================================================================\n",
       "\"\"\""
      ]
     },
     "execution_count": 23,
     "metadata": {},
     "output_type": "execute_result"
    }
   ],
   "source": [
    "import statsmodels.discrete as smd\n",
    "modMN = smd.discrete_model.MNLogit(data.region, data[['constant', 'ethfrac', 'gdptype']], missing = 'drop').fit()\n",
    "modMN.summary()"
   ]
  },
  {
   "cell_type": "markdown",
   "id": "d51a9cd3",
   "metadata": {},
   "source": [
    "### Ordered Logistic Regression\n",
    "- just for illustration, we'll repeat the number of wars, but this is inappropriate because it is theoretically unbounded"
   ]
  },
  {
   "cell_type": "code",
   "execution_count": 24,
   "id": "f2acc732",
   "metadata": {},
   "outputs": [],
   "source": [
    "#need dev version of statsmodels\n",
    "#!pip install git+https://github.com/statsmodels/statsmodels"
   ]
  },
  {
   "cell_type": "code",
   "execution_count": 25,
   "id": "3d3ca6d5",
   "metadata": {},
   "outputs": [
    {
     "name": "stdout",
     "output_type": "stream",
     "text": [
      "Warning: Maximum number of iterations has been exceeded.\n"
     ]
    },
    {
     "name": "stderr",
     "output_type": "stream",
     "text": [
      "C:\\Users\\melihcanyardi\\anaconda3\\lib\\site-packages\\statsmodels\\base\\model.py:604: ConvergenceWarning: Maximum Likelihood optimization failed to converge. Check mle_retvals\n",
      "  warnings.warn(\"Maximum Likelihood optimization failed to \"\n"
     ]
    }
   ],
   "source": [
    "from statsmodels.miscmodels.ordinal_model import OrderedModel\n",
    "#modOL = OrderedModel(data.wars, data[['constant', 'empolity2l', 'empgdpenl', 'emplpopl', 'ethfrac', 'relfrac']], missing = 'drop', distr = 'logit').fit()\n",
    "modOL = OrderedModel(data.wars, data[['empolity2l', 'empgdpenl', 'emplpopl', 'ethfrac', 'relfrac']], missing = 'drop', distr = 'logit').fit()"
   ]
  },
  {
   "cell_type": "markdown",
   "id": "3b6e60ca",
   "metadata": {},
   "source": [
    "### Quasibinomial Regression for Proportions\n",
    "- predict ethnic frac as a function of polity"
   ]
  },
  {
   "cell_type": "code",
   "execution_count": 26,
   "id": "2624693d",
   "metadata": {},
   "outputs": [],
   "source": [
    "modQB = sm.GLM(data.ethfrac, data[['constant', 'empolity2l']], family = sm.families.Binomial(), missing = 'drop').fit()"
   ]
  },
  {
   "cell_type": "markdown",
   "id": "41d4edee",
   "metadata": {},
   "source": [
    "### TODO: look through https://www.statsmodels.org/stable/examples/index.html and run an atypical glm (e.g., zero-inflated for wars)"
   ]
  },
  {
   "cell_type": "code",
   "execution_count": null,
   "id": "7e75aa38",
   "metadata": {},
   "outputs": [],
   "source": []
  }
 ],
 "metadata": {
  "kernelspec": {
   "display_name": "Python 3 (ipykernel)",
   "language": "python",
   "name": "python3"
  },
  "language_info": {
   "codemirror_mode": {
    "name": "ipython",
    "version": 3
   },
   "file_extension": ".py",
   "mimetype": "text/x-python",
   "name": "python",
   "nbconvert_exporter": "python",
   "pygments_lexer": "ipython3",
   "version": "3.8.12"
  }
 },
 "nbformat": 4,
 "nbformat_minor": 5
}
