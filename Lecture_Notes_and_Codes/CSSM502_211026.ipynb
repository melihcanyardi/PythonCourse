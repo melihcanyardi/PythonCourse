{
 "cells": [
  {
   "cell_type": "markdown",
   "id": "ad4eca2d",
   "metadata": {},
   "source": [
    "# Errors, Exceptions, and Testing"
   ]
  },
  {
   "cell_type": "markdown",
   "id": "799763a5",
   "metadata": {},
   "source": [
    "## Types of Errors\n",
    "\n",
    "- Syntax error\n",
    "    - Errors related to language structure.\n",
    "- Runtime error\n",
    "    - Errors during the execution of program\n",
    "    - eg. TypeError, NameError\n",
    "- Semantic error\n",
    "    - The program will run sucessfully but the output is not what you expect.\n",
    "    - You'll need to run a test."
   ]
  },
  {
   "cell_type": "markdown",
   "id": "30e47e51",
   "metadata": {},
   "source": [
    "## Debugging Tips\n",
    "\n",
    "- Make sure:\n",
    "    - You are not using a reserved/keyword.\n",
    "```python\n",
    "import keyword\n",
    "keyword.kwlist\n",
    "```\n",
    "    - You have: after for, while, etc.\n",
    "    - Parantheses and quotations are closed properly.\n",
    "    - You use = and == correctly.\n",
    "    - Indentation is correct!"
   ]
  },
  {
   "cell_type": "markdown",
   "id": "fb27472d",
   "metadata": {},
   "source": [
    "## Exceptions\n",
    "\n",
    "- `raise:` # to create exceptions or errors\n",
    "- `pass:` # to continue execution without doing anything \n",
    "- `try:` # tries executing the following\n",
    "    ```python\n",
    "    except TypeError:\n",
    "    ... # runs if a Type Error was raised\n",
    "    except:\n",
    "    ... # runs for other errors or exceptions\n",
    "    else:\n",
    "    ... # runs if there was no exception/error\n",
    "    finally:\n",
    "    ... # always runs\n",
    "    ```\n",
    "    \n",
    "\n",
    "\n",
    "\n",
    "- You can create your own exceptions using classes."
   ]
  },
  {
   "cell_type": "markdown",
   "id": "3051c8b9",
   "metadata": {},
   "source": [
    "## Unit Testing\n",
    "\n",
    "- Write tests before or as you write code.\n",
    "- Test the smallest possible _unit_.\n",
    "- Automate tests.\n",
    "- Test-driven development."
   ]
  },
  {
   "cell_type": "markdown",
   "id": "d006b3d8",
   "metadata": {},
   "source": [
    "## Why Unit Test?\n",
    "\n",
    "- Find bugs quickly.\n",
    "- Forces code structure.\n",
    "- Allows easier integration of multiple functions.\n",
    "- Much easier to return to code.\n",
    "    - Write a test for what you want to implement next.\n",
    "- Easier to make code changes.\n",
    "- You can easily incorporate lots of these into your work flow."
   ]
  },
  {
   "cell_type": "markdown",
   "id": "2ec68c67",
   "metadata": {},
   "source": [
    "## Sample Test\n",
    "\n",
    "```python\n",
    "import unittest # You need this module\n",
    "import myscript # This is the script you want to test\n",
    "\n",
    "class mytest(unittest.TestCase):\n",
    "    \n",
    "    def test_one(self):\n",
    "        self.assertEqual(\"result I need\", myscript.myfunction(myinput))\n",
    "        \n",
    "    def test_two(self):\n",
    "        thing1 = myscript.myfunction(myinput1)\n",
    "        thing2 = myscript.myfunction(myinput2)\n",
    "        self.assertNotEqual(thing1, thing2)\n",
    "        \n",
    "if __name__ == '__main__': # Add this if you want to run the test with this script.\n",
    "    unittest.main()\n",
    "```"
   ]
  },
  {
   "cell_type": "markdown",
   "id": "a291e1b2",
   "metadata": {},
   "source": [
    "## Test Functions\n",
    "\n",
    "- self.assertEqual(,)\n",
    "- self.assertNotEqual(,)\n",
    "- self.assertTrue()\n",
    "- self.assertFalse()\n",
    "- self.assertRaises()\n",
    "\n",
    "Useful link: https://docs.python.org/3/library/unittest.html"
   ]
  },
  {
   "cell_type": "markdown",
   "id": "5066308b",
   "metadata": {},
   "source": [
    "## Break, Continue and Else\n",
    "\n",
    "- These statements can be handy using while or for loops.\n",
    "- `break` # stops the loop\n",
    "- `continue` # moves on to the next iteration\n",
    "- `else` # executed only if all iterations are completed"
   ]
  },
  {
   "cell_type": "code",
   "execution_count": 1,
   "id": "f1fbecaa",
   "metadata": {},
   "outputs": [
    {
     "name": "stdout",
     "output_type": "stream",
     "text": [
      "2 is a prime number\n",
      "3 is a prime number\n",
      "4 equals 2 * 2\n",
      "5 is a prime number\n",
      "6 equals 2 * 3\n",
      "7 is a prime number\n",
      "8 equals 2 * 4\n",
      "9 equals 3 * 3\n"
     ]
    }
   ],
   "source": [
    "for n in range(2, 10):\n",
    "    for x in range(2, n):\n",
    "        if n % x == 0:\n",
    "            print(n, 'equals', x, '*', n//x)\n",
    "            break\n",
    "    else:\n",
    "        print(n, 'is a prime number')"
   ]
  },
  {
   "cell_type": "markdown",
   "id": "4b6f115f",
   "metadata": {},
   "source": [
    "### exception.py"
   ]
  },
  {
   "cell_type": "code",
   "execution_count": 2,
   "id": "bde531ed",
   "metadata": {},
   "outputs": [
    {
     "ename": "Exception",
     "evalue": "",
     "output_type": "error",
     "traceback": [
      "\u001b[1;31m---------------------------------------------------------------------------\u001b[0m",
      "\u001b[1;31mException\u001b[0m                                 Traceback (most recent call last)",
      "\u001b[1;32m<ipython-input-2-b16ea1bf1ca0>\u001b[0m in \u001b[0;36m<module>\u001b[1;34m\u001b[0m\n\u001b[1;32m----> 1\u001b[1;33m \u001b[1;32mraise\u001b[0m \u001b[0mException\u001b[0m\u001b[1;33m\u001b[0m\u001b[1;33m\u001b[0m\u001b[0m\n\u001b[0m\u001b[0;32m      2\u001b[0m \u001b[0mprint\u001b[0m\u001b[1;33m(\u001b[0m\u001b[1;34m\"I raised an exception!\"\u001b[0m\u001b[1;33m)\u001b[0m\u001b[1;33m\u001b[0m\u001b[1;33m\u001b[0m\u001b[0m\n",
      "\u001b[1;31mException\u001b[0m: "
     ]
    }
   ],
   "source": [
    "raise Exception\n",
    "print(\"I raised an exception!\")"
   ]
  },
  {
   "cell_type": "code",
   "execution_count": 3,
   "id": "a540c1b6",
   "metadata": {},
   "outputs": [
    {
     "ename": "Exception",
     "evalue": "I raised an exception!",
     "output_type": "error",
     "traceback": [
      "\u001b[1;31m---------------------------------------------------------------------------\u001b[0m",
      "\u001b[1;31mException\u001b[0m                                 Traceback (most recent call last)",
      "\u001b[1;32m<ipython-input-3-fb2ea6c0ac01>\u001b[0m in \u001b[0;36m<module>\u001b[1;34m\u001b[0m\n\u001b[1;32m----> 1\u001b[1;33m \u001b[1;32mraise\u001b[0m \u001b[0mException\u001b[0m\u001b[1;33m(\u001b[0m\u001b[1;34m'I raised an exception!'\u001b[0m\u001b[1;33m)\u001b[0m\u001b[1;33m\u001b[0m\u001b[1;33m\u001b[0m\u001b[0m\n\u001b[0m",
      "\u001b[1;31mException\u001b[0m: I raised an exception!"
     ]
    }
   ],
   "source": [
    "raise Exception('I raised an exception!')"
   ]
  },
  {
   "cell_type": "code",
   "execution_count": 4,
   "id": "f9f02573",
   "metadata": {},
   "outputs": [
    {
     "name": "stdout",
     "output_type": "stream",
     "text": [
      "oops name error\n",
      "Yes! I did it!\n",
      "1\n",
      "2\n",
      "3\n",
      "4\n",
      "I found five!\n",
      "6\n",
      "7\n",
      "8\n",
      "9\n",
      "I went through all iterations!\n"
     ]
    }
   ],
   "source": [
    "try:\n",
    "    print(a)\n",
    "except NameError:\n",
    "    print(\"oops name error\")\n",
    "except:\n",
    "    print(\"oops\")\n",
    "finally:\n",
    "    print(\"Yes! I did it!\")\n",
    "for i in range(1,10):\n",
    "    if i==5:\n",
    "        print(\"I found five!\")\n",
    "        continue\n",
    "        print(\"Here is five!\")\n",
    "    else:\n",
    "        print(i)\n",
    "else:\n",
    "    print(\"I went through all iterations!\")"
   ]
  },
  {
   "cell_type": "markdown",
   "id": "e92b90f4",
   "metadata": {},
   "source": [
    "### exceptions_example.py"
   ]
  },
  {
   "cell_type": "code",
   "execution_count": 5,
   "id": "15709f2e",
   "metadata": {},
   "outputs": [
    {
     "name": "stdout",
     "output_type": "stream",
     "text": [
      "Calling a function....\n",
      "Whoa, chill out\n",
      "Goodbye!\n"
     ]
    }
   ],
   "source": [
    "import traceback\n",
    "\n",
    "class CustomException(Exception): # inherits from Exception\n",
    "    def __init__(self, value):\n",
    "        self.value = value\n",
    "      \n",
    "    def __str__(self):\n",
    "        return self.value\n",
    "\n",
    "def i_call_a_function_with_errors():\n",
    "    try:\n",
    "        print(\"Calling a function....\")\n",
    "        #function_with_generic_error()\n",
    "        #function_with_custom_error()\n",
    "        #function_with_unknown_error(1)\n",
    "        function_that_does_not_exist()\n",
    "        print(\"Tada!\")\n",
    "    except CustomException as inst: # `as' gives us access to the exception\n",
    "        print(\"Custom Error Caught! Error({0})\".format(inst.value))\n",
    "    except NameError or AttributeError:\n",
    "        print(\"Whoa, chill out\")\n",
    "    except: # any exception is caught, even ones you don't know about\n",
    "        print(\"Default Error Caught!\")\n",
    "    else: # if nothing broke, then run this block\n",
    "        print(\"No error raised.\")\n",
    "        traceback.print_exc() # this prints the traceback\n",
    "    finally: # this block is always run\n",
    "        print(\"Goodbye!\")\n",
    "          \n",
    "def function_with_generic_error():\n",
    "    raise Exception(\"Foo!\") # this method doesn't know what to do with the exception\n",
    "        \n",
    "def function_with_custom_error():\n",
    "    raise CustomException(\"Foo Bar!\") # this will be handled in the function above}\n",
    "        \n",
    "def function_with_unknown_error(foo):\n",
    "    foo.bar()\n",
    "\n",
    "i_call_a_function_with_errors()"
   ]
  },
  {
   "cell_type": "code",
   "execution_count": 6,
   "id": "43e4d122",
   "metadata": {},
   "outputs": [
    {
     "name": "stdout",
     "output_type": "stream",
     "text": [
      "finally\n",
      "0: FizzBuzz\n",
      "finally\n",
      "finally\n",
      "1: 1\n",
      "finally\n",
      "finally\n",
      "2: 2\n",
      "finally\n",
      "3: Fizz\n",
      "finally\n",
      "finally\n",
      "4: 4\n",
      "finally\n",
      "5: Buzz\n",
      "finally\n",
      "6: Fizz\n",
      "finally\n",
      "finally\n",
      "7: 7\n",
      "finally\n",
      "finally\n",
      "8: 8\n",
      "finally\n",
      "9: Fizz\n",
      "finally\n",
      "10: Buzz\n",
      "finally\n",
      "finally\n",
      "11: 11\n",
      "finally\n",
      "12: Fizz\n",
      "finally\n",
      "finally\n",
      "13: 13\n",
      "finally\n",
      "finally\n",
      "14: 14\n",
      "finally\n",
      "15: FizzBuzz\n",
      "finally\n",
      "finally\n",
      "16: 16\n",
      "finally\n",
      "finally\n",
      "17: 17\n"
     ]
    }
   ],
   "source": [
    "def FizzBuzz(i):\n",
    "    try:\n",
    "        if i % 15 == 0:\n",
    "            raise Exception(\"Divisible by 3 and 5!\")\n",
    "        if i % 3 == 0:\n",
    "            return \"Fizz\"\n",
    "        if i % 5 == 0:\n",
    "            return \"Buzz\"\n",
    "        print(\"finally\")\n",
    "    except:\n",
    "        if i % 15 == 0:\n",
    "            return(\"FizzBuzz\")\n",
    "    else:\n",
    "        return str(i)\n",
    "    finally:\n",
    "        print(\"finally\")\n",
    "\n",
    "for i in range(18):\n",
    "    print(str(i) + \": \" + FizzBuzz(i))"
   ]
  },
  {
   "cell_type": "markdown",
   "id": "7fd571b8",
   "metadata": {},
   "source": [
    "### fizbuzz_test.py"
   ]
  },
  {
   "cell_type": "code",
   "execution_count": 7,
   "id": "5c5b52db",
   "metadata": {},
   "outputs": [
    {
     "name": "stderr",
     "output_type": "stream",
     "text": [
      "E"
     ]
    },
    {
     "name": "stdout",
     "output_type": "stream",
     "text": [
      "finally\n",
      "0: FizzBuzz\n",
      "finally\n",
      "finally\n",
      "1: 1\n",
      "finally\n",
      "finally\n",
      "2: 2\n",
      "finally\n",
      "3: Fizz\n",
      "finally\n",
      "finally\n",
      "4: 4\n",
      "finally\n",
      "5: Buzz\n",
      "finally\n",
      "6: Fizz\n",
      "finally\n",
      "finally\n",
      "7: 7\n",
      "finally\n",
      "finally\n",
      "8: 8\n",
      "finally\n",
      "9: Fizz\n",
      "finally\n",
      "10: Buzz\n",
      "finally\n",
      "finally\n",
      "11: 11\n",
      "finally\n",
      "12: Fizz\n",
      "finally\n",
      "finally\n",
      "13: 13\n",
      "finally\n",
      "finally\n",
      "14: 14\n",
      "finally\n",
      "15: FizzBuzz\n",
      "finally\n",
      "finally\n",
      "16: 16\n",
      "finally\n",
      "finally\n",
      "17: 17\n"
     ]
    },
    {
     "name": "stderr",
     "output_type": "stream",
     "text": [
      "\n",
      "======================================================================\n",
      "ERROR: C:\\Users\\melihcanyardi\\AppData\\Roaming\\jupyter\\runtime\\kernel-33f27353-a285-4311-bed6-1fe597d0b3dd (unittest.loader._FailedTest)\n",
      "----------------------------------------------------------------------\n",
      "AttributeError: module '__main__' has no attribute 'C:\\Users\\melihcanyardi\\AppData\\Roaming\\jupyter\\runtime\\kernel-33f27353-a285-4311-bed6-1fe597d0b3dd'\n",
      "\n",
      "----------------------------------------------------------------------\n",
      "Ran 1 test in 0.001s\n",
      "\n",
      "FAILED (errors=1)\n"
     ]
    },
    {
     "ename": "SystemExit",
     "evalue": "True",
     "output_type": "error",
     "traceback": [
      "An exception has occurred, use %tb to see the full traceback.\n",
      "\u001b[1;31mSystemExit\u001b[0m\u001b[1;31m:\u001b[0m True\n"
     ]
    },
    {
     "name": "stderr",
     "output_type": "stream",
     "text": [
      "C:\\Users\\melihcanyardi\\anaconda3\\lib\\site-packages\\IPython\\core\\interactiveshell.py:3445: UserWarning: To exit: use 'exit', 'quit', or Ctrl-D.\n",
      "  warn(\"To exit: use 'exit', 'quit', or Ctrl-D.\", stacklevel=1)\n"
     ]
    }
   ],
   "source": [
    "#FizzBuzzTest\n",
    "\n",
    "import unittest\n",
    "import fizzbuzz\n",
    "\n",
    "class FizzBuzzTest(unittest.TestCase):\n",
    "\n",
    "    def test_fizz(self):\n",
    "        self.assertEqual('Fizz',fizzbuzz.FizzBuzz(9))\n",
    "        self.assertNotEqual('Fizz',fizzbuzz.FizzBuzz(15))\n",
    "\n",
    "    def test_buzz(self):\n",
    "        self.assertEqual('Buzz',fizzbuzz.FizzBuzz(10))\n",
    "\n",
    "    def test_fizzbuzz(self):\n",
    "        self.assertEqual('FizzBuzz',fizzbuzz.FizzBuzz(15))\n",
    "\n",
    "    def test_error(self):\n",
    "        with self.assertRaises(TypeError):\n",
    "            fizzbuzz.FizzBuzz('b')\n",
    "\n",
    "    def test5(self):\n",
    "        self.assertEqual('Buzz',fizzbuzz.FizzBuzz(15))\n",
    "        \n",
    "if __name__ == '__main__': #Add this if you want to run the test with this script.\n",
    "    unittest.main()"
   ]
  }
 ],
 "metadata": {
  "kernelspec": {
   "display_name": "Python 3",
   "language": "python",
   "name": "python3"
  },
  "language_info": {
   "codemirror_mode": {
    "name": "ipython",
    "version": 3
   },
   "file_extension": ".py",
   "mimetype": "text/x-python",
   "name": "python",
   "nbconvert_exporter": "python",
   "pygments_lexer": "ipython3",
   "version": "3.8.8"
  }
 },
 "nbformat": 4,
 "nbformat_minor": 5
}
