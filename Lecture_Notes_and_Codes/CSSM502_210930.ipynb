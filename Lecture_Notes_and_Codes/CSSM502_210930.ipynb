{
 "cells": [
  {
   "cell_type": "markdown",
   "id": "b1dcd1a2",
   "metadata": {},
   "source": [
    "# Syntax"
   ]
  },
  {
   "cell_type": "markdown",
   "id": "9b2b0600",
   "metadata": {},
   "source": [
    "## Syntax\n",
    "- Object types\n",
    "    - String\n",
    "    - Int\n",
    "    - Float\n",
    "    - List\n",
    "    - Tuple\n",
    "    - Dictionary\n",
    "- Conditionals\n",
    "- Loop\n",
    "- Dictionary"
   ]
  },
  {
   "cell_type": "markdown",
   "id": "fbb642d8",
   "metadata": {},
   "source": [
    "## Strings\n",
    "- Any group of characters recognized as text\n",
    "- Written between **single quotes**, **double quotes** or **triple quotes**."
   ]
  },
  {
   "cell_type": "code",
   "execution_count": 1,
   "id": "73fc1812",
   "metadata": {},
   "outputs": [
    {
     "data": {
      "text/plain": [
       "\"Hi my name is David.\\nI'm 34 years old.\""
      ]
     },
     "execution_count": 1,
     "metadata": {},
     "output_type": "execute_result"
    }
   ],
   "source": [
    "name = 'David'\n",
    "age = '34'\n",
    "intro = \"Hi my name is \" + name + \".\\nI'm \" + age + \" years old.\"\n",
    "intro"
   ]
  },
  {
   "cell_type": "code",
   "execution_count": 2,
   "id": "d7439670",
   "metadata": {},
   "outputs": [
    {
     "name": "stdout",
     "output_type": "stream",
     "text": [
      "Hi my name is David.\n",
      "I'm 34 years old.\n"
     ]
    }
   ],
   "source": [
    "print(intro)"
   ]
  },
  {
   "cell_type": "code",
   "execution_count": 3,
   "id": "88079c33",
   "metadata": {},
   "outputs": [
    {
     "data": {
      "text/plain": [
       "\"Hello!\\nI'm David.\\nWhat's up?\""
      ]
     },
     "execution_count": 3,
     "metadata": {},
     "output_type": "execute_result"
    }
   ],
   "source": [
    "new_intro = \"\"\"Hello!\n",
    "I'm David.\n",
    "What's up?\"\"\"\n",
    "new_intro"
   ]
  },
  {
   "cell_type": "code",
   "execution_count": 4,
   "id": "44a8cf2b",
   "metadata": {},
   "outputs": [
    {
     "name": "stdout",
     "output_type": "stream",
     "text": [
      "Hello!\n",
      "I'm David.\n",
      "What's up?\n"
     ]
    }
   ],
   "source": [
    "print(new_intro)"
   ]
  },
  {
   "cell_type": "markdown",
   "id": "4b55b3d0",
   "metadata": {},
   "source": [
    "- You can call any character in the string."
   ]
  },
  {
   "cell_type": "code",
   "execution_count": 5,
   "id": "b7cea6f7",
   "metadata": {},
   "outputs": [
    {
     "data": {
      "text/plain": [
       "'H'"
      ]
     },
     "execution_count": 5,
     "metadata": {},
     "output_type": "execute_result"
    }
   ],
   "source": [
    "intro[0]"
   ]
  },
  {
   "cell_type": "code",
   "execution_count": 6,
   "id": "c0f90e9a",
   "metadata": {},
   "outputs": [
    {
     "data": {
      "text/plain": [
       "'i'"
      ]
     },
     "execution_count": 6,
     "metadata": {},
     "output_type": "execute_result"
    }
   ],
   "source": [
    "intro[1]"
   ]
  },
  {
   "cell_type": "code",
   "execution_count": 7,
   "id": "511d4c03",
   "metadata": {},
   "outputs": [
    {
     "data": {
      "text/plain": [
       "'m'"
      ]
     },
     "execution_count": 7,
     "metadata": {},
     "output_type": "execute_result"
    }
   ],
   "source": [
    "intro[3]"
   ]
  },
  {
   "cell_type": "markdown",
   "id": "d00d1d76",
   "metadata": {},
   "source": [
    "- Strings are **immutable**.\n",
    "- But you can split a string into words."
   ]
  },
  {
   "cell_type": "code",
   "execution_count": 8,
   "id": "03cefa9a",
   "metadata": {},
   "outputs": [
    {
     "data": {
      "text/plain": [
       "['Hi', 'my', 'name', 'is', 'David.', \"I'm\", '34', 'years', 'old.']"
      ]
     },
     "execution_count": 8,
     "metadata": {},
     "output_type": "execute_result"
    }
   ],
   "source": [
    "intro.split()"
   ]
  },
  {
   "cell_type": "markdown",
   "id": "b0c3d4d8",
   "metadata": {},
   "source": [
    "- Or into any other chuncks using a character."
   ]
  },
  {
   "cell_type": "code",
   "execution_count": 9,
   "id": "0f119663",
   "metadata": {},
   "outputs": [
    {
     "data": {
      "text/plain": [
       "['Hello!', \"I'm David.\", \"What's up?\"]"
      ]
     },
     "execution_count": 9,
     "metadata": {},
     "output_type": "execute_result"
    }
   ],
   "source": [
    "new_intro.split('\\n')"
   ]
  },
  {
   "cell_type": "markdown",
   "id": "051ce6fe",
   "metadata": {},
   "source": [
    "- Run this code. What is happening?"
   ]
  },
  {
   "cell_type": "code",
   "execution_count": 10,
   "id": "ac52e171",
   "metadata": {},
   "outputs": [
    {
     "data": {
      "text/plain": [
       "\" my name is David.\\nI'm 34 years old.\""
      ]
     },
     "execution_count": 10,
     "metadata": {},
     "output_type": "execute_result"
    }
   ],
   "source": [
    "intro[2:]"
   ]
  },
  {
   "cell_type": "code",
   "execution_count": 11,
   "id": "0a4780e8",
   "metadata": {},
   "outputs": [
    {
     "data": {
      "text/plain": [
       "'d.'"
      ]
     },
     "execution_count": 11,
     "metadata": {},
     "output_type": "execute_result"
    }
   ],
   "source": [
    "intro[-2:]"
   ]
  },
  {
   "cell_type": "code",
   "execution_count": 12,
   "id": "f1e1770a",
   "metadata": {},
   "outputs": [
    {
     "data": {
      "text/plain": [
       "'Hi'"
      ]
     },
     "execution_count": 12,
     "metadata": {},
     "output_type": "execute_result"
    }
   ],
   "source": [
    "intro[:2]"
   ]
  },
  {
   "cell_type": "code",
   "execution_count": 13,
   "id": "79523f1f",
   "metadata": {},
   "outputs": [
    {
     "data": {
      "text/plain": [
       "\"Hi my name is David.\\nI'm 34 years ol\""
      ]
     },
     "execution_count": 13,
     "metadata": {},
     "output_type": "execute_result"
    }
   ],
   "source": [
    "intro[:-2]"
   ]
  },
  {
   "cell_type": "code",
   "execution_count": 14,
   "id": "ce77413b",
   "metadata": {},
   "outputs": [
    {
     "data": {
      "text/plain": [
       "\"H ynm sDvd\\n' 4yasod\""
      ]
     },
     "execution_count": 14,
     "metadata": {},
     "output_type": "execute_result"
    }
   ],
   "source": [
    "intro[::2]"
   ]
  },
  {
   "cell_type": "code",
   "execution_count": 15,
   "id": "dd568d82",
   "metadata": {},
   "outputs": [
    {
     "data": {
      "text/plain": [
       "'.l re 3mI.ia iea mi'"
      ]
     },
     "execution_count": 15,
     "metadata": {},
     "output_type": "execute_result"
    }
   ],
   "source": [
    "intro[::-2]"
   ]
  },
  {
   "cell_type": "code",
   "execution_count": 16,
   "id": "f61d0610",
   "metadata": {},
   "outputs": [
    {
     "data": {
      "text/plain": [
       "'HmnesadI  a d'"
      ]
     },
     "execution_count": 16,
     "metadata": {},
     "output_type": "execute_result"
    }
   ],
   "source": [
    "intro[::3]"
   ]
  },
  {
   "cell_type": "markdown",
   "id": "47e8cbd3",
   "metadata": {},
   "source": [
    "- It requires a little more work to split a string into letters."
   ]
  },
  {
   "cell_type": "code",
   "execution_count": 17,
   "id": "fadbfc8f",
   "metadata": {},
   "outputs": [
    {
     "data": {
      "text/plain": [
       "['D', 'a', 'v', 'i', 'd']"
      ]
     },
     "execution_count": 17,
     "metadata": {},
     "output_type": "execute_result"
    }
   ],
   "source": [
    "[letter for letter in name]"
   ]
  },
  {
   "cell_type": "code",
   "execution_count": 18,
   "id": "842857f8",
   "metadata": {},
   "outputs": [
    {
     "data": {
      "text/plain": [
       "['H',\n",
       " 'i',\n",
       " ' ',\n",
       " 'm',\n",
       " 'y',\n",
       " ' ',\n",
       " 'n',\n",
       " 'a',\n",
       " 'm',\n",
       " 'e',\n",
       " ' ',\n",
       " 'i',\n",
       " 's',\n",
       " ' ',\n",
       " 'D',\n",
       " 'a',\n",
       " 'v',\n",
       " 'i',\n",
       " 'd',\n",
       " '.',\n",
       " '\\n',\n",
       " 'I',\n",
       " \"'\",\n",
       " 'm',\n",
       " ' ',\n",
       " '3',\n",
       " '4',\n",
       " ' ',\n",
       " 'y',\n",
       " 'e',\n",
       " 'a',\n",
       " 'r',\n",
       " 's',\n",
       " ' ',\n",
       " 'o',\n",
       " 'l',\n",
       " 'd',\n",
       " '.']"
      ]
     },
     "execution_count": 18,
     "metadata": {},
     "output_type": "execute_result"
    }
   ],
   "source": [
    "[letter for letter in intro]"
   ]
  },
  {
   "cell_type": "markdown",
   "id": "ae000c2e",
   "metadata": {},
   "source": [
    "- Let's combine them again."
   ]
  },
  {
   "cell_type": "code",
   "execution_count": 19,
   "id": "d16861ea",
   "metadata": {},
   "outputs": [],
   "source": [
    "myletters = [letter for letter in intro]"
   ]
  },
  {
   "cell_type": "code",
   "execution_count": 20,
   "id": "2b7170fa",
   "metadata": {},
   "outputs": [
    {
     "data": {
      "text/plain": [
       "\"Hi my name is David.\\nI'm 34 years old.\""
      ]
     },
     "execution_count": 20,
     "metadata": {},
     "output_type": "execute_result"
    }
   ],
   "source": [
    "''.join(myletters)"
   ]
  },
  {
   "cell_type": "code",
   "execution_count": 21,
   "id": "cf173818",
   "metadata": {},
   "outputs": [
    {
     "data": {
      "text/plain": [
       "\"H\\ni\\n \\nm\\ny\\n \\nn\\na\\nm\\ne\\n \\ni\\ns\\n \\nD\\na\\nv\\ni\\nd\\n.\\n\\n\\nI\\n'\\nm\\n \\n3\\n4\\n \\ny\\ne\\na\\nr\\ns\\n \\no\\nl\\nd\\n.\""
      ]
     },
     "execution_count": 21,
     "metadata": {},
     "output_type": "execute_result"
    }
   ],
   "source": [
    "'\\n'.join(myletters)"
   ]
  },
  {
   "cell_type": "markdown",
   "id": "8ba2ce95",
   "metadata": {},
   "source": [
    "## Int\n",
    "- Integers\n",
    "- You can do mathematical operations using these.\n",
    "    - Usual suspects: + - * /\n",
    "    - Exponentiate: **\n",
    "    - Remainder: %\n",
    "    - Whole divison: //"
   ]
  },
  {
   "cell_type": "code",
   "execution_count": 22,
   "id": "aa8047cc",
   "metadata": {},
   "outputs": [],
   "source": [
    "whole = 5//3\n",
    "remainder = 5%3"
   ]
  },
  {
   "cell_type": "code",
   "execution_count": 23,
   "id": "40fd782a",
   "metadata": {},
   "outputs": [
    {
     "data": {
      "text/plain": [
       "'Five divided by three is 1 and 2 fifths'"
      ]
     },
     "execution_count": 23,
     "metadata": {},
     "output_type": "execute_result"
    }
   ],
   "source": [
    "\"\"\"Five divided by three is %d and %d fifths\"\"\" % (whole, remainder)"
   ]
  },
  {
   "cell_type": "markdown",
   "id": "4fc62337",
   "metadata": {},
   "source": [
    "- You can assign numbers using different operators."
   ]
  },
  {
   "cell_type": "code",
   "execution_count": 24,
   "id": "f1949931",
   "metadata": {},
   "outputs": [
    {
     "data": {
      "text/plain": [
       "6"
      ]
     },
     "execution_count": 24,
     "metadata": {},
     "output_type": "execute_result"
    }
   ],
   "source": [
    "five = 5\n",
    "five += 1\n",
    "five"
   ]
  },
  {
   "cell_type": "code",
   "execution_count": 25,
   "id": "e3dba07e",
   "metadata": {},
   "outputs": [
    {
     "data": {
      "text/plain": [
       "2.0"
      ]
     },
     "execution_count": 25,
     "metadata": {},
     "output_type": "execute_result"
    }
   ],
   "source": [
    "five /= 3\n",
    "five"
   ]
  },
  {
   "cell_type": "code",
   "execution_count": 26,
   "id": "72583cef",
   "metadata": {},
   "outputs": [
    {
     "data": {
      "text/plain": [
       "0.0"
      ]
     },
     "execution_count": 26,
     "metadata": {},
     "output_type": "execute_result"
    }
   ],
   "source": [
    "five -= 2\n",
    "five"
   ]
  },
  {
   "cell_type": "markdown",
   "id": "5a82bd14",
   "metadata": {},
   "source": [
    "## Float\n",
    "- **Real numbers**.\n",
    "- Written by adding the decimal to an integer."
   ]
  },
  {
   "cell_type": "code",
   "execution_count": 27,
   "id": "f54d3bc9",
   "metadata": {},
   "outputs": [
    {
     "data": {
      "text/plain": [
       "2.4"
      ]
     },
     "execution_count": 27,
     "metadata": {},
     "output_type": "execute_result"
    }
   ],
   "source": [
    "12.0/5"
   ]
  },
  {
   "cell_type": "code",
   "execution_count": 28,
   "id": "f3aa042e",
   "metadata": {},
   "outputs": [
    {
     "data": {
      "text/plain": [
       "7.0"
      ]
     },
     "execution_count": 28,
     "metadata": {},
     "output_type": "execute_result"
    }
   ],
   "source": [
    "float(7)"
   ]
  },
  {
   "cell_type": "code",
   "execution_count": 29,
   "id": "5923cb49",
   "metadata": {},
   "outputs": [
    {
     "data": {
      "text/plain": [
       "float"
      ]
     },
     "execution_count": 29,
     "metadata": {},
     "output_type": "execute_result"
    }
   ],
   "source": [
    "type(2.*8)"
   ]
  },
  {
   "cell_type": "markdown",
   "id": "5cb10dc8",
   "metadata": {},
   "source": [
    "## List\n",
    "- Collection of any type objects - even lists"
   ]
  },
  {
   "cell_type": "code",
   "execution_count": 30,
   "id": "327b4417",
   "metadata": {},
   "outputs": [
    {
     "data": {
      "text/plain": [
       "['H',\n",
       " 'i',\n",
       " ' ',\n",
       " 'm',\n",
       " 'y',\n",
       " ' ',\n",
       " 'n',\n",
       " 'a',\n",
       " 'm',\n",
       " 'e',\n",
       " ' ',\n",
       " 'i',\n",
       " 's',\n",
       " ' ',\n",
       " 'D',\n",
       " 'a',\n",
       " 'v',\n",
       " 'i',\n",
       " 'd',\n",
       " '.',\n",
       " '\\n',\n",
       " 'I',\n",
       " \"'\",\n",
       " 'm',\n",
       " ' ',\n",
       " '3',\n",
       " '4',\n",
       " ' ',\n",
       " 'y',\n",
       " 'e',\n",
       " 'a',\n",
       " 'r',\n",
       " 's',\n",
       " ' ',\n",
       " 'o',\n",
       " 'l',\n",
       " 'd',\n",
       " '.']"
      ]
     },
     "execution_count": 30,
     "metadata": {},
     "output_type": "execute_result"
    }
   ],
   "source": [
    "myletters"
   ]
  },
  {
   "cell_type": "code",
   "execution_count": 31,
   "id": "3ad42e22",
   "metadata": {},
   "outputs": [
    {
     "data": {
      "text/plain": [
       "list"
      ]
     },
     "execution_count": 31,
     "metadata": {},
     "output_type": "execute_result"
    }
   ],
   "source": [
    "type(myletters)"
   ]
  },
  {
   "cell_type": "markdown",
   "id": "ed8bfbc9",
   "metadata": {},
   "source": [
    "- Lists can be changed, and include multiple object types"
   ]
  },
  {
   "cell_type": "code",
   "execution_count": 32,
   "id": "b9246e7b",
   "metadata": {},
   "outputs": [],
   "source": [
    "myletters.append(5)"
   ]
  },
  {
   "cell_type": "code",
   "execution_count": 33,
   "id": "0b03ddb2",
   "metadata": {},
   "outputs": [
    {
     "data": {
      "text/plain": [
       "5"
      ]
     },
     "execution_count": 33,
     "metadata": {},
     "output_type": "execute_result"
    }
   ],
   "source": [
    "myletters[-1]"
   ]
  },
  {
   "cell_type": "code",
   "execution_count": 34,
   "id": "09ffe77d",
   "metadata": {},
   "outputs": [
    {
     "data": {
      "text/plain": [
       "int"
      ]
     },
     "execution_count": 34,
     "metadata": {},
     "output_type": "execute_result"
    }
   ],
   "source": [
    "type(myletters[-1])"
   ]
  },
  {
   "cell_type": "code",
   "execution_count": 35,
   "id": "a6385c2b",
   "metadata": {},
   "outputs": [],
   "source": [
    "myletters[0] = 'Orange'"
   ]
  },
  {
   "cell_type": "markdown",
   "id": "7ee203bc",
   "metadata": {},
   "source": [
    "- Indexing starts at 0!"
   ]
  },
  {
   "cell_type": "code",
   "execution_count": 36,
   "id": "adb6cbf7",
   "metadata": {},
   "outputs": [],
   "source": [
    "# IndexError: list index out of range\n",
    "# myletters[len(myletters)]"
   ]
  },
  {
   "cell_type": "markdown",
   "id": "28ec2a91",
   "metadata": {},
   "source": [
    "- You can insert into any position"
   ]
  },
  {
   "cell_type": "code",
   "execution_count": 37,
   "id": "10d63b93",
   "metadata": {},
   "outputs": [
    {
     "data": {
      "text/plain": [
       "['Orange', 'i', ' ', 'm', 'y']"
      ]
     },
     "execution_count": 37,
     "metadata": {},
     "output_type": "execute_result"
    }
   ],
   "source": [
    "myletters[:5]"
   ]
  },
  {
   "cell_type": "code",
   "execution_count": 38,
   "id": "78451fad",
   "metadata": {},
   "outputs": [
    {
     "data": {
      "text/plain": [
       "39"
      ]
     },
     "execution_count": 38,
     "metadata": {},
     "output_type": "execute_result"
    }
   ],
   "source": [
    "len(myletters)"
   ]
  },
  {
   "cell_type": "code",
   "execution_count": 39,
   "id": "d9b15fff",
   "metadata": {},
   "outputs": [],
   "source": [
    "myletters.insert(2, '!')"
   ]
  },
  {
   "cell_type": "code",
   "execution_count": 40,
   "id": "6b3b9a98",
   "metadata": {},
   "outputs": [
    {
     "data": {
      "text/plain": [
       "['Orange', 'i', '!', ' ', 'm']"
      ]
     },
     "execution_count": 40,
     "metadata": {},
     "output_type": "execute_result"
    }
   ],
   "source": [
    "myletters[:5]"
   ]
  },
  {
   "cell_type": "code",
   "execution_count": 41,
   "id": "5c5f1bfe",
   "metadata": {},
   "outputs": [
    {
     "data": {
      "text/plain": [
       "40"
      ]
     },
     "execution_count": 41,
     "metadata": {},
     "output_type": "execute_result"
    }
   ],
   "source": [
    "len(myletters)"
   ]
  },
  {
   "cell_type": "markdown",
   "id": "dffd9fcf",
   "metadata": {},
   "source": [
    "- And remove from any position"
   ]
  },
  {
   "cell_type": "code",
   "execution_count": 42,
   "id": "bec578cb",
   "metadata": {},
   "outputs": [
    {
     "data": {
      "text/plain": [
       "['Orange', 'i', '!', ' ', 'm']"
      ]
     },
     "execution_count": 42,
     "metadata": {},
     "output_type": "execute_result"
    }
   ],
   "source": [
    "myletters[:5]"
   ]
  },
  {
   "cell_type": "code",
   "execution_count": 43,
   "id": "04c0bbbc",
   "metadata": {},
   "outputs": [
    {
     "data": {
      "text/plain": [
       "40"
      ]
     },
     "execution_count": 43,
     "metadata": {},
     "output_type": "execute_result"
    }
   ],
   "source": [
    "len(myletters)"
   ]
  },
  {
   "cell_type": "code",
   "execution_count": 44,
   "id": "f07cc177",
   "metadata": {},
   "outputs": [
    {
     "data": {
      "text/plain": [
       "'i'"
      ]
     },
     "execution_count": 44,
     "metadata": {},
     "output_type": "execute_result"
    }
   ],
   "source": [
    "myletters.pop(1)"
   ]
  },
  {
   "cell_type": "code",
   "execution_count": 45,
   "id": "734f35ec",
   "metadata": {},
   "outputs": [
    {
     "data": {
      "text/plain": [
       "['Orange', '!', ' ', 'm', 'y']"
      ]
     },
     "execution_count": 45,
     "metadata": {},
     "output_type": "execute_result"
    }
   ],
   "source": [
    "myletters[:5]"
   ]
  },
  {
   "cell_type": "code",
   "execution_count": 46,
   "id": "78283d2b",
   "metadata": {},
   "outputs": [
    {
     "data": {
      "text/plain": [
       "39"
      ]
     },
     "execution_count": 46,
     "metadata": {},
     "output_type": "execute_result"
    }
   ],
   "source": [
    "len(myletters)"
   ]
  },
  {
   "cell_type": "markdown",
   "id": "26351fb1",
   "metadata": {},
   "source": [
    "## Tuples\n",
    "- Tuples are like lists - combination of any objects\n",
    "- But are immutable\n",
    "- Not very common, but very useful sometimes"
   ]
  },
  {
   "cell_type": "code",
   "execution_count": 47,
   "id": "770731a4",
   "metadata": {},
   "outputs": [],
   "source": [
    "tup = (1, 6, 5, 'Apple')"
   ]
  },
  {
   "cell_type": "code",
   "execution_count": 48,
   "id": "0d3fe131",
   "metadata": {},
   "outputs": [
    {
     "data": {
      "text/plain": [
       "6"
      ]
     },
     "execution_count": 48,
     "metadata": {},
     "output_type": "execute_result"
    }
   ],
   "source": [
    "tup[1]"
   ]
  },
  {
   "cell_type": "code",
   "execution_count": 49,
   "id": "73506ab2",
   "metadata": {},
   "outputs": [],
   "source": [
    "# TypeError: 'tuple' object does not support item assignment\n",
    "# tup[1] = 9"
   ]
  },
  {
   "cell_type": "code",
   "execution_count": 50,
   "id": "1d8e41ba",
   "metadata": {},
   "outputs": [],
   "source": [
    "# AttributeError: 'tuple' object has no attribute 'append'\n",
    "# tup.append(9)"
   ]
  },
  {
   "cell_type": "markdown",
   "id": "25e9e9e6",
   "metadata": {},
   "source": [
    "## Dictionary\n",
    "- It is what it sounds like.\n",
    "- Here is how you create one:"
   ]
  },
  {
   "cell_type": "code",
   "execution_count": 51,
   "id": "2fe8a67c",
   "metadata": {},
   "outputs": [],
   "source": [
    "myDict = {'name': 'David', 'last_name': 'Carlson', 'age': 34}"
   ]
  },
  {
   "cell_type": "markdown",
   "id": "b04b4f4b",
   "metadata": {},
   "source": [
    "- Unlike lists, there is no order to elements.\n",
    "- You can call elements using keys."
   ]
  },
  {
   "cell_type": "code",
   "execution_count": 52,
   "id": "4236d21d",
   "metadata": {},
   "outputs": [
    {
     "data": {
      "text/plain": [
       "{'name': 'David', 'last_name': 'Carlson', 'age': 34}"
      ]
     },
     "execution_count": 52,
     "metadata": {},
     "output_type": "execute_result"
    }
   ],
   "source": [
    "myDict"
   ]
  },
  {
   "cell_type": "code",
   "execution_count": 53,
   "id": "63b3a45b",
   "metadata": {},
   "outputs": [
    {
     "data": {
      "text/plain": [
       "dict_keys(['name', 'last_name', 'age'])"
      ]
     },
     "execution_count": 53,
     "metadata": {},
     "output_type": "execute_result"
    }
   ],
   "source": [
    "myDict.keys()"
   ]
  },
  {
   "cell_type": "code",
   "execution_count": 54,
   "id": "da3d658a",
   "metadata": {},
   "outputs": [
    {
     "data": {
      "text/plain": [
       "dict_values(['David', 'Carlson', 34])"
      ]
     },
     "execution_count": 54,
     "metadata": {},
     "output_type": "execute_result"
    }
   ],
   "source": [
    "myDict.values()"
   ]
  },
  {
   "cell_type": "code",
   "execution_count": 55,
   "id": "97bca216",
   "metadata": {},
   "outputs": [
    {
     "data": {
      "text/plain": [
       "'Carlson'"
      ]
     },
     "execution_count": 55,
     "metadata": {},
     "output_type": "execute_result"
    }
   ],
   "source": [
    "myDict['last_name']"
   ]
  },
  {
   "cell_type": "code",
   "execution_count": 56,
   "id": "a273fbe5",
   "metadata": {},
   "outputs": [],
   "source": [
    "myDict['middle_name'] = 'George'"
   ]
  },
  {
   "cell_type": "code",
   "execution_count": 57,
   "id": "1ce7d144",
   "metadata": {},
   "outputs": [
    {
     "data": {
      "text/plain": [
       "{'name': 'David', 'last_name': 'Carlson', 'age': 34, 'middle_name': 'George'}"
      ]
     },
     "execution_count": 57,
     "metadata": {},
     "output_type": "execute_result"
    }
   ],
   "source": [
    "myDict"
   ]
  },
  {
   "cell_type": "markdown",
   "id": "01c71b16",
   "metadata": {},
   "source": [
    "- These are particularly useful when we start defining classes."
   ]
  },
  {
   "cell_type": "markdown",
   "id": "5a1e4dfc",
   "metadata": {},
   "source": [
    "## Conditionals\n",
    "- Perform an operation (or several) if condition is met (or not)"
   ]
  },
  {
   "cell_type": "code",
   "execution_count": 58,
   "id": "53a6e07d",
   "metadata": {},
   "outputs": [
    {
     "name": "stdout",
     "output_type": "stream",
     "text": [
      "x is two\n"
     ]
    }
   ],
   "source": [
    "x = 2\n",
    "\n",
    "if x == 1:\n",
    "    print('x is one')\n",
    "elif x == 2:\n",
    "    print('x is two')\n",
    "else:\n",
    "    print('x is neither one nor two')"
   ]
  },
  {
   "cell_type": "markdown",
   "id": "32eff38c",
   "metadata": {},
   "source": [
    "- Can be conditions (<, >, <=, >=, ==, !=) or boolean (True or False)\n",
    "- Multiple lines of code:\n",
    "    - Indentation matters!\n",
    "    - Consistency is important, but exactly 4 spaces is 'Pythonic'\n",
    "    - Will cause errors\n",
    "    - Even an empty line with spaces can cause errors"
   ]
  },
  {
   "cell_type": "markdown",
   "id": "b942a0e7",
   "metadata": {},
   "source": [
    "## Loops\n",
    "- Two types of loops: **for** and **while**\n",
    "- **for loop**: loops over some list\n",
    "- **while loop**: loops while condition is true\n",
    "- Can nest loops (and conditionals, etc.)"
   ]
  },
  {
   "cell_type": "code",
   "execution_count": 59,
   "id": "1c820527",
   "metadata": {},
   "outputs": [
    {
     "data": {
      "text/plain": [
       "[2, 4, 6, 8]"
      ]
     },
     "execution_count": 59,
     "metadata": {},
     "output_type": "execute_result"
    }
   ],
   "source": [
    "even_numbers = []\n",
    "\n",
    "for i in range(1, 10):\n",
    "    if i%2 == 0:\n",
    "        even_numbers.append(i)\n",
    "        \n",
    "even_numbers"
   ]
  },
  {
   "cell_type": "code",
   "execution_count": 60,
   "id": "108e889d",
   "metadata": {},
   "outputs": [
    {
     "name": "stdout",
     "output_type": "stream",
     "text": [
      "w\n",
      "o\n",
      "r\n",
      "d\n"
     ]
    }
   ],
   "source": [
    "for letter in 'word': print(letter)"
   ]
  },
  {
   "cell_type": "code",
   "execution_count": 61,
   "id": "9f31cfe3",
   "metadata": {},
   "outputs": [
    {
     "data": {
      "text/plain": [
       "0.05263157894726564"
      ]
     },
     "execution_count": 61,
     "metadata": {},
     "output_type": "execute_result"
    }
   ],
   "source": [
    "sum([.05**i for i in range(1, 10)])"
   ]
  },
  {
   "cell_type": "code",
   "execution_count": 62,
   "id": "6007d7e8",
   "metadata": {},
   "outputs": [],
   "source": [
    "while len(myletters)>1:\n",
    "    myletters.pop()"
   ]
  },
  {
   "cell_type": "code",
   "execution_count": 63,
   "id": "2f042bad",
   "metadata": {},
   "outputs": [
    {
     "data": {
      "text/plain": [
       "['Orange']"
      ]
     },
     "execution_count": 63,
     "metadata": {},
     "output_type": "execute_result"
    }
   ],
   "source": [
    "myletters"
   ]
  },
  {
   "cell_type": "markdown",
   "id": "b76f9ee1",
   "metadata": {},
   "source": [
    "## Quick exercise\n",
    "- Write code that saves the first ten numbers of the Fibonacci sequence to a list:\n",
    "    - With a for loop\n",
    "    - With a while loop\n",
    "- A while loop can always do what a for loop does, but syntax is simpler"
   ]
  },
  {
   "cell_type": "markdown",
   "id": "f1278456",
   "metadata": {},
   "source": [
    "### For loop"
   ]
  },
  {
   "cell_type": "code",
   "execution_count": 64,
   "id": "1ecfcf02",
   "metadata": {},
   "outputs": [
    {
     "data": {
      "text/plain": [
       "[1, 1, 2, 3, 5, 8, 13, 21, 34, 55]"
      ]
     },
     "execution_count": 64,
     "metadata": {},
     "output_type": "execute_result"
    }
   ],
   "source": [
    "fibonacci = [1, 1]\n",
    "\n",
    "for i in range(2, 10):\n",
    "    fibonacci.append(fibonacci[i-2] + fibonacci[i-1])\n",
    "        \n",
    "fibonacci"
   ]
  },
  {
   "cell_type": "markdown",
   "id": "6d27e47a",
   "metadata": {},
   "source": [
    "### While loop"
   ]
  },
  {
   "cell_type": "code",
   "execution_count": 65,
   "id": "442c2b7d",
   "metadata": {},
   "outputs": [
    {
     "data": {
      "text/plain": [
       "[1, 1, 2, 3, 5, 8, 13, 21, 34, 55]"
      ]
     },
     "execution_count": 65,
     "metadata": {},
     "output_type": "execute_result"
    }
   ],
   "source": [
    "fibonacci = [1, 1]\n",
    "\n",
    "while len(fibonacci) < 10:\n",
    "    fibonacci.append(fibonacci[-2] + fibonacci[-1])\n",
    "    \n",
    "fibonacci"
   ]
  },
  {
   "cell_type": "markdown",
   "id": "d342399f",
   "metadata": {},
   "source": [
    "## Functions\n",
    "- They help write cleaner code.\n",
    "- Keep them simple.\n",
    "- You can return any type of object.\n",
    "- Don't forget to add return for output."
   ]
  },
  {
   "cell_type": "code",
   "execution_count": 66,
   "id": "b30c5af2",
   "metadata": {},
   "outputs": [
    {
     "data": {
      "text/plain": [
       "25"
      ]
     },
     "execution_count": 66,
     "metadata": {},
     "output_type": "execute_result"
    }
   ],
   "source": [
    "def addSquares(x, y):\n",
    "    return x**2+y**2\n",
    "\n",
    "addSquares(3, 4)"
   ]
  },
  {
   "cell_type": "markdown",
   "id": "5e4fda86",
   "metadata": {},
   "source": [
    "- Change the Fibonacci code to find first _n_ numbers of sequence"
   ]
  },
  {
   "cell_type": "code",
   "execution_count": 67,
   "id": "c1386b72",
   "metadata": {},
   "outputs": [
    {
     "data": {
      "text/plain": [
       "[1, 1, 2, 3, 5, 8, 13, 21, 34, 55, 89, 144, 233, 377, 610]"
      ]
     },
     "execution_count": 67,
     "metadata": {},
     "output_type": "execute_result"
    }
   ],
   "source": [
    "def fibonacci_func(n):\n",
    "    fibonacci = [1, 1]\n",
    "    \n",
    "    for i in range(0, n-2):\n",
    "        fibonacci.append(fibonacci[i] + fibonacci[i+1])\n",
    "        \n",
    "    return fibonacci\n",
    "\n",
    "fibonacci_func(15)"
   ]
  }
 ],
 "metadata": {
  "kernelspec": {
   "display_name": "Python 3",
   "language": "python",
   "name": "python3"
  },
  "language_info": {
   "codemirror_mode": {
    "name": "ipython",
    "version": 3
   },
   "file_extension": ".py",
   "mimetype": "text/x-python",
   "name": "python",
   "nbconvert_exporter": "python",
   "pygments_lexer": "ipython3",
   "version": "3.8.8"
  }
 },
 "nbformat": 4,
 "nbformat_minor": 5
}
