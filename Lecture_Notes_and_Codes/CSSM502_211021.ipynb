{
 "cells": [
  {
   "cell_type": "markdown",
   "id": "a63add2d",
   "metadata": {},
   "source": [
    "# Calendar Solution"
   ]
  },
  {
   "cell_type": "code",
   "execution_count": 1,
   "id": "3ede0535",
   "metadata": {},
   "outputs": [],
   "source": [
    "class Calendar(object):\n",
    "    def __init__(self, year, month, day):\n",
    "        self.year = str(year)\n",
    "        self.month = '0'*(2- len(str(month))) + str(month)\n",
    "        self.day = '0'*(2 - len(str(day))) + str(day)\n",
    "        \n",
    "    def __str__(self):\n",
    "        return self.day + '/' + self.month + '/' + self.year\n",
    "        \n",
    "    def __repr__(self):\n",
    "        return self.__str__()\n",
    "    \n",
    "    def __add__(self,days):\n",
    "        dayHold = int(self.month)*30 + int(self.day) + int(days)\n",
    "        return Calendar(int(self.year) + dayHold//360, dayHold%360//30 + 1, dayHold%360%30)\n",
    "        \n",
    "    def __sub__(self,days):\n",
    "        return self + (-1)*days\n",
    "    \n",
    "    def __eq__(self, other):\n",
    "        return self.year == other.year and self.month == other.month and self.day == other.day\n",
    "    \n",
    "    def __ne__(self, other):\n",
    "        return not self == other"
   ]
  },
  {
   "cell_type": "code",
   "execution_count": 2,
   "id": "1cfadb4a",
   "metadata": {},
   "outputs": [],
   "source": [
    "calendar = Calendar(2012, 10, 21)"
   ]
  },
  {
   "cell_type": "code",
   "execution_count": 3,
   "id": "13d5b505",
   "metadata": {},
   "outputs": [
    {
     "name": "stdout",
     "output_type": "stream",
     "text": [
      "21/10/2012\n"
     ]
    }
   ],
   "source": [
    "print(calendar)"
   ]
  },
  {
   "cell_type": "markdown",
   "id": "8fbb1d7f",
   "metadata": {},
   "source": [
    "# classMeths\n",
    "\n",
    "- What is a class method?\n",
    "\n",
    "- A class method is a method that is bound to a class rather than its object. It doesn't require creation of a class instance, much like staticmethod.\n",
    "\n",
    "- The difference between a static method and a class method is:\n",
    "\n",
    "    - Static method knows nothing about the class and just deals with the parameters\n",
    "    - Class method works with the class since its parameter is always the class itself.\n",
    "\n",
    "- The class method can be called both by the class and its object."
   ]
  },
  {
   "cell_type": "markdown",
   "id": "c39b09dd",
   "metadata": {},
   "source": [
    "## ex 1"
   ]
  },
  {
   "cell_type": "code",
   "execution_count": 4,
   "id": "d0cb7187",
   "metadata": {},
   "outputs": [
    {
     "name": "stdout",
     "output_type": "stream",
     "text": [
      "Adam's age is: 19\n",
      "John's age is: 36\n"
     ]
    }
   ],
   "source": [
    "from datetime import date\n",
    "\n",
    "# random Person\n",
    "class Person:\n",
    "    def __init__(self, name, age):\n",
    "        self.name = name\n",
    "        self.age = age\n",
    "\n",
    "    @classmethod\n",
    "    def fromBirthYear(cls, name, birthYear):\n",
    "        return cls(name, date.today().year - birthYear)\n",
    "\n",
    "\n",
    "    def display(self):\n",
    "        print(self.name + \"'s age is: \" + str(self.age))\n",
    "\n",
    "person = Person('Adam', 19)\n",
    "person.display()\n",
    "\n",
    "person1 = Person.fromBirthYear('John',  1985)\n",
    "person1.display()"
   ]
  },
  {
   "cell_type": "markdown",
   "id": "070f999b",
   "metadata": {},
   "source": [
    "## ex 2\n",
    "\n",
    "- Note how I’m using the cls argument in the margherita and prosciutto factory methods instead of calling the Pizza constructor directly.\n",
    "\n",
    "- This is a trick you can use to follow the Don’t Repeat Yourself (DRY) principle. If we decide to rename this class at some point we won’t have to remember updating the constructor name in all of the classmethod factory functions."
   ]
  },
  {
   "cell_type": "code",
   "execution_count": 5,
   "id": "fa4e2a26",
   "metadata": {},
   "outputs": [],
   "source": [
    "class Pizza:\n",
    "    def __init__(self, ingredients):\n",
    "        self.ingredients = ingredients\n",
    "\n",
    "    def __repr__(self):\n",
    "        return f'Pizza({self.ingredients!r})'\n",
    "\n",
    "    @classmethod\n",
    "    def margherita(cls):\n",
    "        return cls(['mozzarella', 'tomatoes'])\n",
    "\n",
    "    @classmethod\n",
    "    def prosciutto(cls):\n",
    "        return cls(['mozzarella', 'tomatoes', 'ham'])"
   ]
  },
  {
   "cell_type": "markdown",
   "id": "1743321a",
   "metadata": {},
   "source": [
    "# subsetRecur\n",
    "\n",
    "- Write a Python program to get all possible unique subsets from a set of distinct integers."
   ]
  },
  {
   "cell_type": "code",
   "execution_count": 6,
   "id": "a0f72faa",
   "metadata": {},
   "outputs": [],
   "source": [
    "class py_solution:\n",
    "    \n",
    "    def sub_sets(self, sset):\n",
    "        return self.subsetsRecur([], sorted(sset))\n",
    "    \n",
    "    def subsetsRecur(self, current, sset):\n",
    "        if sset:\n",
    "            return self.subsetsRecur(current, sset[1:]) + self.subsetsRecur(current + [sset[0]], sset[1:])\n",
    "        return [current]"
   ]
  },
  {
   "cell_type": "code",
   "execution_count": 7,
   "id": "64bf9ff5",
   "metadata": {},
   "outputs": [
    {
     "name": "stdout",
     "output_type": "stream",
     "text": [
      "[[], [6], [5], [5, 6], [4], [4, 6], [4, 5], [4, 5, 6]]\n"
     ]
    }
   ],
   "source": [
    "print(py_solution().sub_sets([4,5,6]))"
   ]
  },
  {
   "cell_type": "markdown",
   "id": "d7c1def5",
   "metadata": {},
   "source": [
    "# fibClass\n",
    "\n",
    "- Write a recursive function to determine the nth number of the Fibonacci sequence\n",
    "- Put the function in a class"
   ]
  },
  {
   "cell_type": "code",
   "execution_count": 8,
   "id": "a6e842e5",
   "metadata": {},
   "outputs": [],
   "source": [
    "def Fib(n):\n",
    "    if n == 1 or n == 2:\n",
    "        return 1\n",
    "    return Fib(n-1) + Fib(n-2)"
   ]
  },
  {
   "cell_type": "code",
   "execution_count": 9,
   "id": "4c6a4ce8",
   "metadata": {},
   "outputs": [
    {
     "name": "stdout",
     "output_type": "stream",
     "text": [
      "1: 1\n",
      "2: 1\n",
      "3: 2\n",
      "4: 3\n",
      "5: 5\n",
      "6: 8\n",
      "7: 13\n",
      "8: 21\n",
      "9: 34\n",
      "10: 55\n",
      "11: 89\n",
      "12: 144\n",
      "13: 233\n",
      "14: 377\n",
      "15: 610\n",
      "16: 987\n",
      "17: 1597\n",
      "18: 2584\n",
      "19: 4181\n",
      "20: 6765\n",
      "21: 10946\n",
      "22: 17711\n",
      "23: 28657\n",
      "24: 46368\n",
      "25: 75025\n",
      "26: 121393\n",
      "27: 196418\n",
      "28: 317811\n",
      "29: 514229\n"
     ]
    }
   ],
   "source": [
    "for i in range(1, 30):\n",
    "    print(f\"{i}: {Fib(i)}\")"
   ]
  },
  {
   "cell_type": "code",
   "execution_count": 10,
   "id": "9d8f2261",
   "metadata": {},
   "outputs": [],
   "source": [
    "class Fibonacci(object):\n",
    "    \n",
    "    def __init__(self, n):\n",
    "        self.n = n\n",
    "        self.fibnum = self.fib(n)\n",
    "    \n",
    "    @classmethod\n",
    "    def fib(self, n):\n",
    "        if n == 1 or n == 2:\n",
    "            return 1\n",
    "        return self.fib(n-1) + self.fib(n-2)\n",
    "    \n",
    "    def __str__(self):\n",
    "        return str(self.fibnum)\n",
    "    \n",
    "    def __repr__(self):\n",
    "        return self.__str__()"
   ]
  }
 ],
 "metadata": {
  "kernelspec": {
   "display_name": "Python 3",
   "language": "python",
   "name": "python3"
  },
  "language_info": {
   "codemirror_mode": {
    "name": "ipython",
    "version": 3
   },
   "file_extension": ".py",
   "mimetype": "text/x-python",
   "name": "python",
   "nbconvert_exporter": "python",
   "pygments_lexer": "ipython3",
   "version": "3.8.8"
  }
 },
 "nbformat": 4,
 "nbformat_minor": 5
}
