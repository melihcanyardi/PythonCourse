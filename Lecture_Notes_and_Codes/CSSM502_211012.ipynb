{
 "cells": [
  {
   "cell_type": "markdown",
   "id": "49a0159d",
   "metadata": {},
   "source": [
    "# Clock Lab"
   ]
  },
  {
   "cell_type": "code",
   "execution_count": 1,
   "id": "628e5245",
   "metadata": {},
   "outputs": [],
   "source": [
    "class Clock(object):\n",
    "    def __init__(self, hour, minutes):\n",
    "        self.minutes = minutes\n",
    "        self.hour = hour\n",
    "\n",
    "    @classmethod\n",
    "    def at(cls, hour, minutes=0):\n",
    "        return cls(hour, minutes)\n",
    "\n",
    "    def __str__(self):\n",
    "        if len(str(self.hour)) < 2:\n",
    "            return f\"0{self.hour}:{self.minutes}\"\n",
    "        elif len(str(self.minutes)) < 2:\n",
    "            return f\"{self.hour}:0{self.minutes}\"\n",
    "        elif len(str(self.hour)) < 2 and len(str(self.minutes)) < 2:\n",
    "            return f\"0{self.hour}:0{self.minutes}\"\n",
    "        else:\n",
    "            return f\"{self.hour}:{self.minutes}\"\n",
    "    \n",
    "    def __add__(self,minutes):\n",
    "        self.minutes += minutes\n",
    "        self.hour += (self.minutes // 60)\n",
    "        self.minutes %= 60\n",
    "        if self.hour >= 24:\n",
    "            self.hour //= 24\n",
    "    \n",
    "    def __sub__(self,minutes):\n",
    "        self.minutes -= minutes\n",
    "        if self.minutes < 0:\n",
    "            self.hour += (self.minutes // 60)\n",
    "        self.minutes %= 60\n",
    "        if self.hour >= 24:\n",
    "            self.hour //= 24\n",
    "        elif self.hour < 0:\n",
    "            self.hour += 24\n",
    "    \n",
    "    def __eq__(self, other):\n",
    "        return f\"{self.hour}:{self.minutes}\" == other\n",
    "    \n",
    "    def __ne__(self, other):\n",
    "        return f\"{self.hour}:{self.minutes}\" != other"
   ]
  },
  {
   "cell_type": "markdown",
   "id": "3404f1f9",
   "metadata": {},
   "source": [
    "## Solution"
   ]
  },
  {
   "cell_type": "code",
   "execution_count": 2,
   "id": "5a115ce5",
   "metadata": {},
   "outputs": [],
   "source": [
    "class Clock(object):\n",
    "    def __init__(self, hour, minutes=0):\n",
    "        self.minutes = '0'*(2-len(str(minutes)))+str(minutes)\n",
    "        self.hour = '0'*(2-len(str(hour)))+str(hour)\n",
    "    def __str__(self):\n",
    "        return self.hour+\":\"+self.minutes\n",
    "    def __repr__(self):\n",
    "        return self.__str__()\n",
    "    @classmethod\n",
    "    def at(cls, hour, minutes=0):\n",
    "        return cls(hour, minutes)\n",
    "    def __add__(self,minutes):\n",
    "        time=(int(self.hour)*60+int(self.minutes)+int(minutes))%(24*60)\n",
    "        return Clock(time//60,time%60)\n",
    "    def __sub__(self,minutes):\n",
    "        return self+((-1)*minutes)\n",
    "    def __eq__(self, other):\n",
    "        return (self.hour==other.hour and self.minutes==other.minutes)\n",
    "    def __ne__(self, other):\n",
    "        return not self==other"
   ]
  }
 ],
 "metadata": {
  "kernelspec": {
   "display_name": "Python 3",
   "language": "python",
   "name": "python3"
  },
  "language_info": {
   "codemirror_mode": {
    "name": "ipython",
    "version": 3
   },
   "file_extension": ".py",
   "mimetype": "text/x-python",
   "name": "python",
   "nbconvert_exporter": "python",
   "pygments_lexer": "ipython3",
   "version": "3.8.8"
  }
 },
 "nbformat": 4,
 "nbformat_minor": 5
}
