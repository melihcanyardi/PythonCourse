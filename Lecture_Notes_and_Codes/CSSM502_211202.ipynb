{
 "cells": [
  {
   "cell_type": "markdown",
   "id": "774796ac",
   "metadata": {},
   "source": [
    "# Logistic Regression and Maximum Likelihood Estimation"
   ]
  },
  {
   "cell_type": "markdown",
   "id": "c3706927",
   "metadata": {},
   "source": [
    "## 7GLMs/reportingGLMs.py"
   ]
  },
  {
   "cell_type": "code",
   "execution_count": 1,
   "id": "7801544a",
   "metadata": {},
   "outputs": [],
   "source": [
    "import numpy as np, pandas as pd\n",
    "from matplotlib import pyplot as plt\n",
    "import seaborn as sns\n",
    "import scipy.stats as stats\n",
    "import statsmodels.api as sm\n",
    "\n",
    "import os\n",
    "os.chdir('../KocPythonFall2021/inclass/7GLMs/')"
   ]
  },
  {
   "cell_type": "code",
   "execution_count": 2,
   "id": "cbea16fe",
   "metadata": {},
   "outputs": [],
   "source": [
    "final_df = pd.read_csv('data.csv')\n",
    "final_df.columns\n",
    "final_df['constant'] = 1"
   ]
  },
  {
   "cell_type": "code",
   "execution_count": 3,
   "id": "585a994d",
   "metadata": {},
   "outputs": [
    {
     "name": "stdout",
     "output_type": "stream",
     "text": [
      "Optimization terminated successfully.\n",
      "         Current function value: 0.656428\n",
      "         Iterations 6\n"
     ]
    },
    {
     "data": {
      "text/html": [
       "<table class=\"simpletable\">\n",
       "<caption>Logit Regression Results</caption>\n",
       "<tr>\n",
       "  <th>Dep. Variable:</th>       <td>intercon</td>     <th>  No. Observations:  </th>  <td>  8216</td>  \n",
       "</tr>\n",
       "<tr>\n",
       "  <th>Model:</th>                 <td>Logit</td>      <th>  Df Residuals:      </th>  <td>  8211</td>  \n",
       "</tr>\n",
       "<tr>\n",
       "  <th>Method:</th>                 <td>MLE</td>       <th>  Df Model:          </th>  <td>     4</td>  \n",
       "</tr>\n",
       "<tr>\n",
       "  <th>Date:</th>            <td>Thu, 02 Dec 2021</td> <th>  Pseudo R-squ.:     </th>  <td>0.03543</td> \n",
       "</tr>\n",
       "<tr>\n",
       "  <th>Time:</th>                <td>15:26:06</td>     <th>  Log-Likelihood:    </th> <td> -5393.2</td> \n",
       "</tr>\n",
       "<tr>\n",
       "  <th>converged:</th>             <td>True</td>       <th>  LL-Null:           </th> <td> -5591.3</td> \n",
       "</tr>\n",
       "<tr>\n",
       "  <th>Covariance Type:</th>     <td>nonrobust</td>    <th>  LLR p-value:       </th> <td>1.866e-84</td>\n",
       "</tr>\n",
       "</table>\n",
       "<table class=\"simpletable\">\n",
       "<tr>\n",
       "       <td></td>          <th>coef</th>     <th>std err</th>      <th>z</th>      <th>P>|z|</th>  <th>[0.025</th>    <th>0.975]</th>  \n",
       "</tr>\n",
       "<tr>\n",
       "  <th>constant</th>    <td>   -0.0712</td> <td>    0.059</td> <td>   -1.212</td> <td> 0.225</td> <td>   -0.186</td> <td>    0.044</td>\n",
       "</tr>\n",
       "<tr>\n",
       "  <th>country_pop</th> <td>    0.4511</td> <td>    0.038</td> <td>   11.857</td> <td> 0.000</td> <td>    0.377</td> <td>    0.526</td>\n",
       "</tr>\n",
       "<tr>\n",
       "  <th>aggdifxx</th>    <td>    0.0377</td> <td>    0.006</td> <td>    6.775</td> <td> 0.000</td> <td>    0.027</td> <td>    0.049</td>\n",
       "</tr>\n",
       "<tr>\n",
       "  <th>gdppc</th>       <td>   -0.1418</td> <td>    0.035</td> <td>   -4.017</td> <td> 0.000</td> <td>   -0.211</td> <td>   -0.073</td>\n",
       "</tr>\n",
       "<tr>\n",
       "  <th>polity2</th>     <td>    0.0179</td> <td>    0.004</td> <td>    4.833</td> <td> 0.000</td> <td>    0.011</td> <td>    0.025</td>\n",
       "</tr>\n",
       "</table>"
      ],
      "text/plain": [
       "<class 'statsmodels.iolib.summary.Summary'>\n",
       "\"\"\"\n",
       "                           Logit Regression Results                           \n",
       "==============================================================================\n",
       "Dep. Variable:               intercon   No. Observations:                 8216\n",
       "Model:                          Logit   Df Residuals:                     8211\n",
       "Method:                           MLE   Df Model:                            4\n",
       "Date:                Thu, 02 Dec 2021   Pseudo R-squ.:                 0.03543\n",
       "Time:                        15:26:06   Log-Likelihood:                -5393.2\n",
       "converged:                       True   LL-Null:                       -5591.3\n",
       "Covariance Type:            nonrobust   LLR p-value:                 1.866e-84\n",
       "===============================================================================\n",
       "                  coef    std err          z      P>|z|      [0.025      0.975]\n",
       "-------------------------------------------------------------------------------\n",
       "constant       -0.0712      0.059     -1.212      0.225      -0.186       0.044\n",
       "country_pop     0.4511      0.038     11.857      0.000       0.377       0.526\n",
       "aggdifxx        0.0377      0.006      6.775      0.000       0.027       0.049\n",
       "gdppc          -0.1418      0.035     -4.017      0.000      -0.211      -0.073\n",
       "polity2         0.0179      0.004      4.833      0.000       0.011       0.025\n",
       "===============================================================================\n",
       "\"\"\""
      ]
     },
     "execution_count": 3,
     "metadata": {},
     "output_type": "execute_result"
    }
   ],
   "source": [
    "pop_logit = sm.Logit(final_df.intercon, final_df[['constant', 'country_pop', 'aggdifxx', 'gdppc', 'polity2']], missing = 'drop').fit()\n",
    "pop_logit.summary()"
   ]
  },
  {
   "cell_type": "code",
   "execution_count": 4,
   "id": "bc1a1f29",
   "metadata": {},
   "outputs": [
    {
     "name": "stdout",
     "output_type": "stream",
     "text": [
      "\\begin{center}\n",
      "\\begin{tabular}{lclc}\n",
      "\\toprule\n",
      "\\textbf{Dep. Variable:}   &     intercon     & \\textbf{  No. Observations:  } &     8216    \\\\\n",
      "\\textbf{Model:}           &      Logit       & \\textbf{  Df Residuals:      } &     8211    \\\\\n",
      "\\textbf{Method:}          &       MLE        & \\textbf{  Df Model:          } &        4    \\\\\n",
      "\\textbf{Date:}            & Thu, 02 Dec 2021 & \\textbf{  Pseudo R-squ.:     } &  0.03543    \\\\\n",
      "\\textbf{Time:}            &     15:26:06     & \\textbf{  Log-Likelihood:    } &   -5393.2   \\\\\n",
      "\\textbf{converged:}       &       True       & \\textbf{  LL-Null:           } &   -5591.3   \\\\\n",
      "\\textbf{Covariance Type:} &    nonrobust     & \\textbf{  LLR p-value:       } & 1.866e-84   \\\\\n",
      "\\bottomrule\n",
      "\\end{tabular}\n",
      "\\begin{tabular}{lcccccc}\n",
      "                      & \\textbf{coef} & \\textbf{std err} & \\textbf{z} & \\textbf{P$> |$z$|$} & \\textbf{[0.025} & \\textbf{0.975]}  \\\\\n",
      "\\midrule\n",
      "\\textbf{constant}     &      -0.0712  &        0.059     &    -1.212  &         0.225        &       -0.186    &        0.044     \\\\\n",
      "\\textbf{country\\_pop} &       0.4511  &        0.038     &    11.857  &         0.000        &        0.377    &        0.526     \\\\\n",
      "\\textbf{aggdifxx}     &       0.0377  &        0.006     &     6.775  &         0.000        &        0.027    &        0.049     \\\\\n",
      "\\textbf{gdppc}        &      -0.1418  &        0.035     &    -4.017  &         0.000        &       -0.211    &       -0.073     \\\\\n",
      "\\textbf{polity2}      &       0.0179  &        0.004     &     4.833  &         0.000        &        0.011    &        0.025     \\\\\n",
      "\\bottomrule\n",
      "\\end{tabular}\n",
      "%\\caption{Logit Regression Results}\n",
      "\\end{center}\n"
     ]
    }
   ],
   "source": [
    "#let's get a LaTeX table\n",
    "print(pop_logit.summary().as_latex())"
   ]
  },
  {
   "cell_type": "code",
   "execution_count": 5,
   "id": "440f3ccb",
   "metadata": {},
   "outputs": [
    {
     "name": "stdout",
     "output_type": "stream",
     "text": [
      "                     Logit Regression Results                    \n",
      "Dep. Variable:  ,intercon        ,  No. Observations:  ,  8216   \n",
      "Model:          ,Logit           ,  Df Residuals:      ,  8211   \n",
      "Method:         ,MLE             ,  Df Model:          ,     4   \n",
      "Date:           ,Thu, 02 Dec 2021,  Pseudo R-squ.:     ,0.03543  \n",
      "Time:           ,15:26:06        ,  Log-Likelihood:    , -5393.2 \n",
      "converged:      ,True            ,  LL-Null:           , -5591.3 \n",
      "Covariance Type:,nonrobust       ,  LLR p-value:       ,1.866e-84\n",
      "           ,   coef   , std err ,    z    ,P>|z| ,  [0.025 ,  0.975] \n",
      "constant   ,   -0.0712,    0.059,   -1.212, 0.225,   -0.186,    0.044\n",
      "country_pop,    0.4511,    0.038,   11.857, 0.000,    0.377,    0.526\n",
      "aggdifxx   ,    0.0377,    0.006,    6.775, 0.000,    0.027,    0.049\n",
      "gdppc      ,   -0.1418,    0.035,   -4.017, 0.000,   -0.211,   -0.073\n",
      "polity2    ,    0.0179,    0.004,    4.833, 0.000,    0.011,    0.025\n"
     ]
    }
   ],
   "source": [
    "#now a csv\n",
    "print(pop_logit.summary().as_csv())"
   ]
  },
  {
   "cell_type": "code",
   "execution_count": 6,
   "id": "abb833d9",
   "metadata": {},
   "outputs": [
    {
     "name": "stdout",
     "output_type": "stream",
     "text": [
      "<table class=\"simpletable\">\n",
      "<caption>Logit Regression Results</caption>\n",
      "<tr>\n",
      "  <th>Dep. Variable:</th>       <td>intercon</td>     <th>  No. Observations:  </th>  <td>  8216</td>  \n",
      "</tr>\n",
      "<tr>\n",
      "  <th>Model:</th>                 <td>Logit</td>      <th>  Df Residuals:      </th>  <td>  8211</td>  \n",
      "</tr>\n",
      "<tr>\n",
      "  <th>Method:</th>                 <td>MLE</td>       <th>  Df Model:          </th>  <td>     4</td>  \n",
      "</tr>\n",
      "<tr>\n",
      "  <th>Date:</th>            <td>Thu, 02 Dec 2021</td> <th>  Pseudo R-squ.:     </th>  <td>0.03543</td> \n",
      "</tr>\n",
      "<tr>\n",
      "  <th>Time:</th>                <td>15:26:06</td>     <th>  Log-Likelihood:    </th> <td> -5393.2</td> \n",
      "</tr>\n",
      "<tr>\n",
      "  <th>converged:</th>             <td>True</td>       <th>  LL-Null:           </th> <td> -5591.3</td> \n",
      "</tr>\n",
      "<tr>\n",
      "  <th>Covariance Type:</th>     <td>nonrobust</td>    <th>  LLR p-value:       </th> <td>1.866e-84</td>\n",
      "</tr>\n",
      "</table>\n",
      "<table class=\"simpletable\">\n",
      "<tr>\n",
      "       <td></td>          <th>coef</th>     <th>std err</th>      <th>z</th>      <th>P>|z|</th>  <th>[0.025</th>    <th>0.975]</th>  \n",
      "</tr>\n",
      "<tr>\n",
      "  <th>constant</th>    <td>   -0.0712</td> <td>    0.059</td> <td>   -1.212</td> <td> 0.225</td> <td>   -0.186</td> <td>    0.044</td>\n",
      "</tr>\n",
      "<tr>\n",
      "  <th>country_pop</th> <td>    0.4511</td> <td>    0.038</td> <td>   11.857</td> <td> 0.000</td> <td>    0.377</td> <td>    0.526</td>\n",
      "</tr>\n",
      "<tr>\n",
      "  <th>aggdifxx</th>    <td>    0.0377</td> <td>    0.006</td> <td>    6.775</td> <td> 0.000</td> <td>    0.027</td> <td>    0.049</td>\n",
      "</tr>\n",
      "<tr>\n",
      "  <th>gdppc</th>       <td>   -0.1418</td> <td>    0.035</td> <td>   -4.017</td> <td> 0.000</td> <td>   -0.211</td> <td>   -0.073</td>\n",
      "</tr>\n",
      "<tr>\n",
      "  <th>polity2</th>     <td>    0.0179</td> <td>    0.004</td> <td>    4.833</td> <td> 0.000</td> <td>    0.011</td> <td>    0.025</td>\n",
      "</tr>\n",
      "</table>\n"
     ]
    }
   ],
   "source": [
    "#html\n",
    "print(pop_logit.summary().as_html())"
   ]
  },
  {
   "cell_type": "code",
   "execution_count": 7,
   "id": "2aaf39d4",
   "metadata": {},
   "outputs": [
    {
     "name": "stdout",
     "output_type": "stream",
     "text": [
      "                           Logit Regression Results                           \n",
      "==============================================================================\n",
      "Dep. Variable:               intercon   No. Observations:                 8216\n",
      "Model:                          Logit   Df Residuals:                     8211\n",
      "Method:                           MLE   Df Model:                            4\n",
      "Date:                Thu, 02 Dec 2021   Pseudo R-squ.:                 0.03543\n",
      "Time:                        15:26:06   Log-Likelihood:                -5393.2\n",
      "converged:                       True   LL-Null:                       -5591.3\n",
      "Covariance Type:            nonrobust   LLR p-value:                 1.866e-84\n",
      "===============================================================================\n",
      "                  coef    std err          z      P>|z|      [0.025      0.975]\n",
      "-------------------------------------------------------------------------------\n",
      "constant       -0.0712      0.059     -1.212      0.225      -0.186       0.044\n",
      "country_pop     0.4511      0.038     11.857      0.000       0.377       0.526\n",
      "aggdifxx        0.0377      0.006      6.775      0.000       0.027       0.049\n",
      "gdppc          -0.1418      0.035     -4.017      0.000      -0.211      -0.073\n",
      "polity2         0.0179      0.004      4.833      0.000       0.011       0.025\n",
      "===============================================================================\n"
     ]
    }
   ],
   "source": [
    "#text\n",
    "print(pop_logit.summary().as_text())"
   ]
  },
  {
   "cell_type": "markdown",
   "id": "faac933d",
   "metadata": {},
   "source": [
    "### Exponentiate the Coefficients (why?) "
   ]
  },
  {
   "cell_type": "code",
   "execution_count": 8,
   "id": "3152abf5",
   "metadata": {},
   "outputs": [
    {
     "name": "stdout",
     "output_type": "stream",
     "text": [
      "                   5%       95%  Odds Ratio\n",
      "constant     0.830074  1.044875    0.931302\n",
      "country_pop  1.457220  1.691568    1.570028\n",
      "aggdifxx     1.027131  1.049764    1.038386\n",
      "gdppc        0.809772  0.929952    0.867784\n",
      "polity2      1.010707  1.025500    1.018077\n"
     ]
    }
   ],
   "source": [
    "params = pop_logit.params\n",
    "conf = pop_logit.conf_int()\n",
    "conf['Odds Ratio'] = params\n",
    "conf.columns = ['5%', '95%', 'Odds Ratio']\n",
    "print(np.exp(conf))"
   ]
  },
  {
   "cell_type": "markdown",
   "id": "0e2de733",
   "metadata": {},
   "source": [
    "### Coefficient Plot"
   ]
  },
  {
   "cell_type": "code",
   "execution_count": 9,
   "id": "ce89a039",
   "metadata": {},
   "outputs": [
    {
     "data": {
      "image/png": "[encoded data removed]",
      "text/plain": [
       "<Figure size 576x360 with 1 Axes>"
      ]
     },
     "metadata": {
      "needs_background": "light"
     },
     "output_type": "display_data"
    }
   ],
   "source": [
    "points = pop_logit.params\n",
    "lower = pop_logit.params - pop_logit.conf_int()[0]\n",
    "upper = pop_logit.conf_int()[1] - pop_logit.params\n",
    "yerr = np.row_stack((lower, upper))\n",
    "\n",
    "fig, ax = plt.subplots(figsize=(8, 5))\n",
    "plt.errorbar(x = np.arange(points.shape[0]), y = points, yerr = yerr, ls = 'none')\n",
    "ax.set_ylabel('')\n",
    "ax.set_xlabel('')\n",
    "ax.scatter(x=np.arange(points.shape[0]), \n",
    "           marker='s', s=35, \n",
    "           y=points)\n",
    "ax.axhline(y=0, linestyle='--', color='black', linewidth=1)\n",
    "ax.set_xticks(np.arange(points.shape[0]))\n",
    "ax.set_xticklabels(['Constant', 'Pop.', 'Agg.Diff.', 'GDPPC', 'Polity'])\n",
    "plt.show()"
   ]
  },
  {
   "cell_type": "markdown",
   "id": "50bb85f4",
   "metadata": {},
   "source": [
    "### Plot Predictions"
   ]
  },
  {
   "cell_type": "code",
   "execution_count": 10,
   "id": "6e89d133",
   "metadata": {},
   "outputs": [
    {
     "data": {
      "image/png": "[encoded data removed]",
      "text/plain": [
       "<Figure size 576x288 with 1 Axes>"
      ]
     },
     "metadata": {
      "needs_background": "light"
     },
     "output_type": "display_data"
    }
   ],
   "source": [
    "X = final_df[['constant', 'country_pop']].sort_values(by = 'country_pop').dropna()\n",
    "X['aggdifxx'] = np.mean(final_df['aggdifxx'])\n",
    "X['gdppc'] = np.mean(final_df['gdppc'])\n",
    "X['polity2'] = np.mean(final_df['polity2'])\n",
    "preds = pop_logit.predict(exog = X)\n",
    "fig, ax = plt.subplots(figsize=(8,4))\n",
    "ax.plot(X['country_pop'], preds)\n",
    "ax.plot(X['country_pop'], [preds.min() - .05]*len(X['country_pop']), '|', color='k')\n",
    "plt.show()"
   ]
  },
  {
   "cell_type": "markdown",
   "id": "e4e62501",
   "metadata": {},
   "source": [
    "### TODO: fit a Poisson of number of wars on democracy with controls (we did this in glm.py). plot expected numbers of wars as a function of democracy as we did above but with your new model"
   ]
  },
  {
   "cell_type": "code",
   "execution_count": null,
   "id": "fab89e23",
   "metadata": {},
   "outputs": [],
   "source": []
  },
  {
   "cell_type": "markdown",
   "id": "9e090eb6",
   "metadata": {},
   "source": [
    "### TODO: replace the logit explanatory variable (country_pop) with groupcon. using a train/test split (run several times) assess which explanatory variable is better at prediction as captured by RMSE"
   ]
  },
  {
   "cell_type": "code",
   "execution_count": null,
   "id": "fef1d1cf",
   "metadata": {},
   "outputs": [],
   "source": []
  }
 ],
 "metadata": {
  "kernelspec": {
   "display_name": "Python 3 (ipykernel)",
   "language": "python",
   "name": "python3"
  },
  "language_info": {
   "codemirror_mode": {
    "name": "ipython",
    "version": 3
   },
   "file_extension": ".py",
   "mimetype": "text/x-python",
   "name": "python",
   "nbconvert_exporter": "python",
   "pygments_lexer": "ipython3",
   "version": "3.8.12"
  }
 },
 "nbformat": 4,
 "nbformat_minor": 5
}
