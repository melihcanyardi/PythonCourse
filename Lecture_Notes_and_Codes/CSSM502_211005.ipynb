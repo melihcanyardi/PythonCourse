{
 "cells": [
  {
   "cell_type": "markdown",
   "id": "733bf337",
   "metadata": {},
   "source": [
    "# Syntax (cont'd)"
   ]
  },
  {
   "cell_type": "markdown",
   "id": "00090c23",
   "metadata": {},
   "source": [
    "## Functions\n",
    "- They help write cleaner code.\n",
    "- Keep them simple.\n",
    "- You can return any type of object.\n",
    "- Don't forget to add return for output."
   ]
  },
  {
   "cell_type": "code",
   "execution_count": 1,
   "id": "61d8f978",
   "metadata": {},
   "outputs": [
    {
     "data": {
      "text/plain": [
       "25"
      ]
     },
     "execution_count": 1,
     "metadata": {},
     "output_type": "execute_result"
    }
   ],
   "source": [
    "def addSquares(x, y):\n",
    "    return x**2+y**2\n",
    "\n",
    "addSquares(3, 4)"
   ]
  },
  {
   "cell_type": "markdown",
   "id": "ef4a854d",
   "metadata": {},
   "source": [
    "- Change the Fibonacci code to find first _n_ numbers of sequence"
   ]
  },
  {
   "cell_type": "markdown",
   "id": "fdd472cb",
   "metadata": {},
   "source": [
    "### For loop version"
   ]
  },
  {
   "cell_type": "code",
   "execution_count": 2,
   "id": "34c2cfb4",
   "metadata": {},
   "outputs": [
    {
     "data": {
      "text/plain": [
       "[1, 1, 2, 3, 5, 8, 13, 21, 34, 55, 89, 144, 233, 377, 610]"
      ]
     },
     "execution_count": 2,
     "metadata": {},
     "output_type": "execute_result"
    }
   ],
   "source": [
    "def fibonacci_func(n):\n",
    "    fibonacci = [1, 1]\n",
    "    \n",
    "    for i in range(0, n-2):\n",
    "        fibonacci.append(fibonacci[i] + fibonacci[i+1])\n",
    "        \n",
    "    return fibonacci\n",
    "\n",
    "fibonacci_func(15)"
   ]
  },
  {
   "cell_type": "markdown",
   "id": "b8411cff",
   "metadata": {},
   "source": [
    "### While loop version"
   ]
  },
  {
   "cell_type": "code",
   "execution_count": 3,
   "id": "5dde6eec",
   "metadata": {},
   "outputs": [
    {
     "data": {
      "text/plain": [
       "[1, 1, 2, 3, 5, 8, 13, 21, 34, 55, 89, 144, 233, 377, 610]"
      ]
     },
     "execution_count": 3,
     "metadata": {},
     "output_type": "execute_result"
    }
   ],
   "source": [
    "def fibonacci_func(n):\n",
    "    fibonacci = [1, 1]\n",
    "    \n",
    "    while len(fibonacci) < n:\n",
    "        fibonacci.append(fibonacci[-2] + fibonacci[-1])\n",
    "        \n",
    "    return fibonacci\n",
    "\n",
    "fibonacci_func(15)"
   ]
  }
 ],
 "metadata": {
  "kernelspec": {
   "display_name": "Python 3 (ipykernel)",
   "language": "python",
   "name": "python3"
  },
  "language_info": {
   "codemirror_mode": {
    "name": "ipython",
    "version": 3
   },
   "file_extension": ".py",
   "mimetype": "text/x-python",
   "name": "python",
   "nbconvert_exporter": "python",
   "pygments_lexer": "ipython3",
   "version": "3.8.11"
  }
 },
 "nbformat": 4,
 "nbformat_minor": 5
}
